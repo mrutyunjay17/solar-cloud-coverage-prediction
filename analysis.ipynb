{
 "cells": [
  {
   "cell_type": "markdown",
   "id": "f82660b1-01e1-4fa3-a703-e33f4dcad626",
   "metadata": {},
   "source": [
    "## Predict cloud coverage\n",
    "\n",
    "- Predicting cloud cover in a short time span of 120 minutes is very challenging.\n",
    "- On this time scale, changes in local cloud cover are driven by a combination of dynamical and physical parameters such as wind speed, wind direction sea-level pressure, humidity, and temperature over the asset of our interest.\n",
    "- Short interval cloud cover prediction requires accurate estimates of cloud motion and presence using weather data and sky camera images or physics-based&nbsp;weather models or a combination of both. \n",
    "\n",
    "### Goal:\n",
    "#### Predict the percentage of total cloud coverage for the next upcoming intervals using the available weather and sky camera data.  \n",
    "\n",
    "We are expected to predict the total cloud coverage as a percentage of the open sky for a fixed field of view at 4 horizon intervals of 30, 60, 90, and 120 minutes from a 6-hour window of historical data.  "
   ]
  },
  {
   "cell_type": "code",
   "execution_count": 1,
   "id": "8e1148cd-45d6-40ae-a0a7-32d5e934e7a6",
   "metadata": {},
   "outputs": [],
   "source": [
    "import pandas as pd\n",
    "import numpy as np\n",
    "%matplotlib inline\n",
    "import matplotlib.pyplot as plt"
   ]
  },
  {
   "cell_type": "code",
   "execution_count": null,
   "id": "665e8eb2-7aca-4a80-97a2-59e779e5cb61",
   "metadata": {},
   "outputs": [],
   "source": []
  }
 ],
 "metadata": {
  "kernelspec": {
   "display_name": "opencv",
   "language": "python",
   "name": "opencv"
  },
  "language_info": {
   "codemirror_mode": {
    "name": "ipython",
    "version": 3
   },
   "file_extension": ".py",
   "mimetype": "text/x-python",
   "name": "python",
   "nbconvert_exporter": "python",
   "pygments_lexer": "ipython3",
   "version": "3.7.10"
  }
 },
 "nbformat": 4,
 "nbformat_minor": 5
}

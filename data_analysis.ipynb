{
 "cells": [
  {
   "cell_type": "markdown",
   "id": "f82660b1-01e1-4fa3-a703-e33f4dcad626",
   "metadata": {},
   "source": [
    "## Predict cloud coverage\n",
    "\n",
    "- Predicting cloud cover in a short time span of 120 minutes is very challenging.\n",
    "- On this time scale, changes in local cloud cover are driven by a combination of dynamical and physical parameters such as wind speed, wind direction sea-level pressure, humidity, and temperature over the asset of our interest.\n",
    "- Short interval cloud cover prediction requires accurate estimates of cloud motion and presence using weather data and sky camera images or physics-based&nbsp;weather models or a combination of both. \n",
    "\n",
    "### Goal:\n",
    "#### Predict the percentage of total cloud coverage for the next upcoming intervals using the available weather and sky camera data.  \n",
    "\n",
    "We are expected to predict the total cloud coverage as a percentage of the open sky for a fixed field of view at 4 horizon intervals of 30, 60, 90, and 120 minutes from a 6-hour window of historical data.  "
   ]
  },
  {
   "cell_type": "code",
   "execution_count": 2,
   "id": "8e1148cd-45d6-40ae-a0a7-32d5e934e7a6",
   "metadata": {},
   "outputs": [],
   "source": [
    "import pandas as pd\n",
    "import numpy as np\n",
    "%matplotlib inline\n",
    "import matplotlib.pyplot as plt\n",
    "import os"
   ]
  },
  {
   "cell_type": "code",
   "execution_count": 5,
   "id": "665e8eb2-7aca-4a80-97a2-59e779e5cb61",
   "metadata": {},
   "outputs": [],
   "source": [
    "PATH_FOLDER_DATASET = \"dataset\"\n",
    "PATH_FOLDER_TRAINING = os.path.join(PATH_FOLDER_DATASET,\"train\")"
   ]
  },
  {
   "cell_type": "markdown",
   "id": "11fb1cf1-a52d-4f93-9367-91f7a00e574c",
   "metadata": {},
   "source": [
    "Let's import training dataset"
   ]
  },
  {
   "cell_type": "code",
   "execution_count": 6,
   "id": "9120c6cc-2b92-4359-8f50-871d11856d19",
   "metadata": {},
   "outputs": [
    {
     "data": {
      "text/html": [
       "<div>\n",
       "<style scoped>\n",
       "    .dataframe tbody tr th:only-of-type {\n",
       "        vertical-align: middle;\n",
       "    }\n",
       "\n",
       "    .dataframe tbody tr th {\n",
       "        vertical-align: top;\n",
       "    }\n",
       "\n",
       "    .dataframe thead th {\n",
       "        text-align: right;\n",
       "    }\n",
       "</style>\n",
       "<table border=\"1\" class=\"dataframe\">\n",
       "  <thead>\n",
       "    <tr style=\"text-align: right;\">\n",
       "      <th></th>\n",
       "      <th>DATE (MM/DD)</th>\n",
       "      <th>MST</th>\n",
       "      <th>Global CMP22 (vent/cor) [W/m^2]</th>\n",
       "      <th>Direct sNIP [W/m^2]</th>\n",
       "      <th>Azimuth Angle [degrees]</th>\n",
       "      <th>Tower Dry Bulb Temp [deg C]</th>\n",
       "      <th>Tower Wet Bulb Temp [deg C]</th>\n",
       "      <th>Tower Dew Point Temp [deg C]</th>\n",
       "      <th>Tower RH [%]</th>\n",
       "      <th>Total Cloud Cover [%]</th>\n",
       "      <th>Peak Wind Speed @ 6ft [m/s]</th>\n",
       "      <th>Avg Wind Direction @ 6ft [deg from N]</th>\n",
       "      <th>Station Pressure [mBar]</th>\n",
       "      <th>Precipitation (Accumulated) [mm]</th>\n",
       "      <th>Snow Depth [cm]</th>\n",
       "      <th>Moisture</th>\n",
       "      <th>Albedo (CMP11)</th>\n",
       "    </tr>\n",
       "  </thead>\n",
       "  <tbody>\n",
       "    <tr>\n",
       "      <th>0</th>\n",
       "      <td>1/1</td>\n",
       "      <td>00:00</td>\n",
       "      <td>-0.962276</td>\n",
       "      <td>0.000000</td>\n",
       "      <td>356.85640</td>\n",
       "      <td>7.216</td>\n",
       "      <td>0.988</td>\n",
       "      <td>-7.312</td>\n",
       "      <td>32.33</td>\n",
       "      <td>-1</td>\n",
       "      <td>9.95</td>\n",
       "      <td>271.3</td>\n",
       "      <td>806.779</td>\n",
       "      <td>0.0</td>\n",
       "      <td>0.219</td>\n",
       "      <td>0.0</td>\n",
       "      <td>0.0</td>\n",
       "    </tr>\n",
       "    <tr>\n",
       "      <th>1</th>\n",
       "      <td>1/1</td>\n",
       "      <td>00:01</td>\n",
       "      <td>-0.937921</td>\n",
       "      <td>0.000000</td>\n",
       "      <td>357.65505</td>\n",
       "      <td>7.251</td>\n",
       "      <td>1.040</td>\n",
       "      <td>-7.260</td>\n",
       "      <td>32.40</td>\n",
       "      <td>-1</td>\n",
       "      <td>8.20</td>\n",
       "      <td>272.9</td>\n",
       "      <td>806.840</td>\n",
       "      <td>0.0</td>\n",
       "      <td>0.206</td>\n",
       "      <td>0.0</td>\n",
       "      <td>0.0</td>\n",
       "    </tr>\n",
       "    <tr>\n",
       "      <th>2</th>\n",
       "      <td>1/1</td>\n",
       "      <td>00:02</td>\n",
       "      <td>-0.944395</td>\n",
       "      <td>0.000000</td>\n",
       "      <td>358.45438</td>\n",
       "      <td>7.256</td>\n",
       "      <td>1.093</td>\n",
       "      <td>-7.207</td>\n",
       "      <td>32.54</td>\n",
       "      <td>-1</td>\n",
       "      <td>6.70</td>\n",
       "      <td>288.8</td>\n",
       "      <td>806.876</td>\n",
       "      <td>0.0</td>\n",
       "      <td>0.148</td>\n",
       "      <td>0.0</td>\n",
       "      <td>0.0</td>\n",
       "    </tr>\n",
       "    <tr>\n",
       "      <th>3</th>\n",
       "      <td>1/1</td>\n",
       "      <td>00:03</td>\n",
       "      <td>-0.951350</td>\n",
       "      <td>-0.029673</td>\n",
       "      <td>359.25416</td>\n",
       "      <td>7.254</td>\n",
       "      <td>1.060</td>\n",
       "      <td>-7.440</td>\n",
       "      <td>31.89</td>\n",
       "      <td>-1</td>\n",
       "      <td>7.70</td>\n",
       "      <td>294.0</td>\n",
       "      <td>806.823</td>\n",
       "      <td>0.0</td>\n",
       "      <td>0.235</td>\n",
       "      <td>0.0</td>\n",
       "      <td>0.0</td>\n",
       "    </tr>\n",
       "    <tr>\n",
       "      <th>4</th>\n",
       "      <td>1/1</td>\n",
       "      <td>00:04</td>\n",
       "      <td>-0.934976</td>\n",
       "      <td>-0.054401</td>\n",
       "      <td>0.05415</td>\n",
       "      <td>7.331</td>\n",
       "      <td>1.081</td>\n",
       "      <td>-7.419</td>\n",
       "      <td>31.78</td>\n",
       "      <td>-1</td>\n",
       "      <td>7.20</td>\n",
       "      <td>285.5</td>\n",
       "      <td>806.762</td>\n",
       "      <td>0.0</td>\n",
       "      <td>0.182</td>\n",
       "      <td>0.0</td>\n",
       "      <td>0.0</td>\n",
       "    </tr>\n",
       "  </tbody>\n",
       "</table>\n",
       "</div>"
      ],
      "text/plain": [
       "  DATE (MM/DD)    MST  Global CMP22 (vent/cor) [W/m^2]  Direct sNIP [W/m^2]  \\\n",
       "0          1/1  00:00                        -0.962276             0.000000   \n",
       "1          1/1  00:01                        -0.937921             0.000000   \n",
       "2          1/1  00:02                        -0.944395             0.000000   \n",
       "3          1/1  00:03                        -0.951350            -0.029673   \n",
       "4          1/1  00:04                        -0.934976            -0.054401   \n",
       "\n",
       "   Azimuth Angle [degrees]  Tower Dry Bulb Temp [deg C]  \\\n",
       "0                356.85640                        7.216   \n",
       "1                357.65505                        7.251   \n",
       "2                358.45438                        7.256   \n",
       "3                359.25416                        7.254   \n",
       "4                  0.05415                        7.331   \n",
       "\n",
       "   Tower Wet Bulb Temp [deg C]  Tower Dew Point Temp [deg C]  Tower RH [%]  \\\n",
       "0                        0.988                        -7.312         32.33   \n",
       "1                        1.040                        -7.260         32.40   \n",
       "2                        1.093                        -7.207         32.54   \n",
       "3                        1.060                        -7.440         31.89   \n",
       "4                        1.081                        -7.419         31.78   \n",
       "\n",
       "   Total Cloud Cover [%]  Peak Wind Speed @ 6ft [m/s]  \\\n",
       "0                     -1                         9.95   \n",
       "1                     -1                         8.20   \n",
       "2                     -1                         6.70   \n",
       "3                     -1                         7.70   \n",
       "4                     -1                         7.20   \n",
       "\n",
       "   Avg Wind Direction @ 6ft [deg from N]  Station Pressure [mBar]  \\\n",
       "0                                  271.3                  806.779   \n",
       "1                                  272.9                  806.840   \n",
       "2                                  288.8                  806.876   \n",
       "3                                  294.0                  806.823   \n",
       "4                                  285.5                  806.762   \n",
       "\n",
       "   Precipitation (Accumulated) [mm]  Snow Depth [cm]  Moisture  Albedo (CMP11)  \n",
       "0                               0.0            0.219       0.0             0.0  \n",
       "1                               0.0            0.206       0.0             0.0  \n",
       "2                               0.0            0.148       0.0             0.0  \n",
       "3                               0.0            0.235       0.0             0.0  \n",
       "4                               0.0            0.182       0.0             0.0  "
      ]
     },
     "execution_count": 6,
     "metadata": {},
     "output_type": "execute_result"
    }
   ],
   "source": [
    "data = pd.read_csv(os.path.join(PATH_FOLDER_TRAINING, \"train.csv\"))\n",
    "data.head(5)"
   ]
  },
  {
   "cell_type": "code",
   "execution_count": 7,
   "id": "d0e28951-6b52-40e2-938e-eb7ed10dac72",
   "metadata": {},
   "outputs": [
    {
     "data": {
      "text/plain": [
       "(527040, 17)"
      ]
     },
     "execution_count": 7,
     "metadata": {},
     "output_type": "execute_result"
    }
   ],
   "source": [
    "data.shape"
   ]
  },
  {
   "cell_type": "markdown",
   "id": "04db990b-a092-4dd7-87aa-d0e072327c75",
   "metadata": {},
   "source": [
    "The local weather data was recorded for 366 days for 1 minute frequency, this makes $366\\times24\\times60 = 527040$ rows, which is correct  \n",
    "\n",
    "Now the raw sky camera images were recorded at 10 minute frquence for the same duration. Let's see total number of images"
   ]
  },
  {
   "cell_type": "code",
   "execution_count": 95,
   "id": "b39daeaf-bd43-41f2-8c7b-c44eb691c4bb",
   "metadata": {},
   "outputs": [],
   "source": [
    "import filetype \n",
    "\n",
    "images_count = {}\n",
    "junks_count = {}\n",
    "\n",
    "for file in os.scandir(PATH_FOLDER_TRAINING):\n",
    "    if file.is_dir():\n",
    "        images_count[file.name] = 0\n",
    "        junks_count[file.name] = 0\n",
    "        \n",
    "        for image in os.scandir(file.path):\n",
    "            if filetype.is_image(image.path):\n",
    "                images_count[file.name] += 1\n",
    "            else:\n",
    "                junks_count[file.name] += 1\n",
    "\n",
    "junks_count = np.array(list(junks_count.items()), dtype=object)\n",
    "images_count = np.array(list(images_count.items()), dtype=object)"
   ]
  },
  {
   "cell_type": "code",
   "execution_count": 107,
   "id": "b19966ca-0de0-420b-8273-f77961c617b0",
   "metadata": {},
   "outputs": [
    {
     "name": "stdout",
     "output_type": "stream",
     "text": [
      "Junk files in image folder:  []\n",
      "Folders with no images recorded:  ['0404' '0405']\n"
     ]
    }
   ],
   "source": [
    "print(\"Junk files in image folder: \", junks_count[np.where(junks_count[:, 1] > 0)])\n",
    "print(\"Folders with no images recorded: \", images_count[np.where(images_count[:, 1] == 0)][:,0])"
   ]
  },
  {
   "cell_type": "markdown",
   "id": "adb570d9-1302-4ffc-af8c-c2ba55f5cd7c",
   "metadata": {},
   "source": [
    "Seems like images were not recorded on 4th & 5th April. Maybe we won't be able to consider weather data for these 2 dates during training. Althugh nothing junk found!  \n",
    "\n",
    "\n",
    "Since images were captured with 10 mins frquency in a day, let's take a peek at image counts per day."
   ]
  },
  {
   "cell_type": "code",
   "execution_count": 113,
   "id": "4eed5301-1aa7-46ed-ab49-77a3da6e39e1",
   "metadata": {},
   "outputs": [
    {
     "name": "stdout",
     "output_type": "stream",
     "text": [
      "Unique image counts per folder (day):\n"
     ]
    },
    {
     "data": {
      "text/plain": [
       "array([0, 5, 7, 11, 12, 13, 14, 28, 31, 50, 52, 53, 54, 55, 56, 57, 58,\n",
       "       59, 60, 61, 62, 63, 64, 65, 66, 67, 68, 69, 70, 71, 72, 73, 74, 75,\n",
       "       76, 77, 78, 79, 80, 81, 82, 83, 84, 85, 86, 87, 88, 89],\n",
       "      dtype=object)"
      ]
     },
     "execution_count": 113,
     "metadata": {},
     "output_type": "execute_result"
    }
   ],
   "source": [
    "print(\"Unique image counts per folder (day):\")\n",
    "np.unique(images_count[:,1])"
   ]
  },
  {
   "cell_type": "markdown",
   "id": "c5eb1393-5a1a-4810-8a03-a21b8984e51e",
   "metadata": {
    "jupyter": {
     "outputs_hidden": true
    },
    "tags": []
   },
   "source": [
    "Very irregular!  \n",
    "\n",
    "### Analyzing Weather Data"
   ]
  },
  {
   "cell_type": "code",
   "execution_count": 114,
   "id": "2ee6afc6-ade2-4b9b-8cdd-872540abde52",
   "metadata": {},
   "outputs": [
    {
     "data": {
      "text/html": [
       "<div>\n",
       "<style scoped>\n",
       "    .dataframe tbody tr th:only-of-type {\n",
       "        vertical-align: middle;\n",
       "    }\n",
       "\n",
       "    .dataframe tbody tr th {\n",
       "        vertical-align: top;\n",
       "    }\n",
       "\n",
       "    .dataframe thead th {\n",
       "        text-align: right;\n",
       "    }\n",
       "</style>\n",
       "<table border=\"1\" class=\"dataframe\">\n",
       "  <thead>\n",
       "    <tr style=\"text-align: right;\">\n",
       "      <th></th>\n",
       "      <th>DATE (MM/DD)</th>\n",
       "      <th>MST</th>\n",
       "      <th>Global CMP22 (vent/cor) [W/m^2]</th>\n",
       "      <th>Direct sNIP [W/m^2]</th>\n",
       "      <th>Azimuth Angle [degrees]</th>\n",
       "      <th>Tower Dry Bulb Temp [deg C]</th>\n",
       "      <th>Tower Wet Bulb Temp [deg C]</th>\n",
       "      <th>Tower Dew Point Temp [deg C]</th>\n",
       "      <th>Tower RH [%]</th>\n",
       "      <th>Total Cloud Cover [%]</th>\n",
       "      <th>Peak Wind Speed @ 6ft [m/s]</th>\n",
       "      <th>Avg Wind Direction @ 6ft [deg from N]</th>\n",
       "      <th>Station Pressure [mBar]</th>\n",
       "      <th>Precipitation (Accumulated) [mm]</th>\n",
       "      <th>Snow Depth [cm]</th>\n",
       "      <th>Moisture</th>\n",
       "      <th>Albedo (CMP11)</th>\n",
       "    </tr>\n",
       "  </thead>\n",
       "  <tbody>\n",
       "    <tr>\n",
       "      <th>0</th>\n",
       "      <td>1/1</td>\n",
       "      <td>00:00</td>\n",
       "      <td>-0.962276</td>\n",
       "      <td>0.0</td>\n",
       "      <td>356.85640</td>\n",
       "      <td>7.216</td>\n",
       "      <td>0.988</td>\n",
       "      <td>-7.312</td>\n",
       "      <td>32.33</td>\n",
       "      <td>-1</td>\n",
       "      <td>9.95</td>\n",
       "      <td>271.3</td>\n",
       "      <td>806.779</td>\n",
       "      <td>0.0</td>\n",
       "      <td>0.219</td>\n",
       "      <td>0.0</td>\n",
       "      <td>0.0</td>\n",
       "    </tr>\n",
       "    <tr>\n",
       "      <th>1</th>\n",
       "      <td>1/1</td>\n",
       "      <td>00:01</td>\n",
       "      <td>-0.937921</td>\n",
       "      <td>0.0</td>\n",
       "      <td>357.65505</td>\n",
       "      <td>7.251</td>\n",
       "      <td>1.040</td>\n",
       "      <td>-7.260</td>\n",
       "      <td>32.40</td>\n",
       "      <td>-1</td>\n",
       "      <td>8.20</td>\n",
       "      <td>272.9</td>\n",
       "      <td>806.840</td>\n",
       "      <td>0.0</td>\n",
       "      <td>0.206</td>\n",
       "      <td>0.0</td>\n",
       "      <td>0.0</td>\n",
       "    </tr>\n",
       "    <tr>\n",
       "      <th>2</th>\n",
       "      <td>1/1</td>\n",
       "      <td>00:02</td>\n",
       "      <td>-0.944395</td>\n",
       "      <td>0.0</td>\n",
       "      <td>358.45438</td>\n",
       "      <td>7.256</td>\n",
       "      <td>1.093</td>\n",
       "      <td>-7.207</td>\n",
       "      <td>32.54</td>\n",
       "      <td>-1</td>\n",
       "      <td>6.70</td>\n",
       "      <td>288.8</td>\n",
       "      <td>806.876</td>\n",
       "      <td>0.0</td>\n",
       "      <td>0.148</td>\n",
       "      <td>0.0</td>\n",
       "      <td>0.0</td>\n",
       "    </tr>\n",
       "  </tbody>\n",
       "</table>\n",
       "</div>"
      ],
      "text/plain": [
       "  DATE (MM/DD)    MST  Global CMP22 (vent/cor) [W/m^2]  Direct sNIP [W/m^2]  \\\n",
       "0          1/1  00:00                        -0.962276                  0.0   \n",
       "1          1/1  00:01                        -0.937921                  0.0   \n",
       "2          1/1  00:02                        -0.944395                  0.0   \n",
       "\n",
       "   Azimuth Angle [degrees]  Tower Dry Bulb Temp [deg C]  \\\n",
       "0                356.85640                        7.216   \n",
       "1                357.65505                        7.251   \n",
       "2                358.45438                        7.256   \n",
       "\n",
       "   Tower Wet Bulb Temp [deg C]  Tower Dew Point Temp [deg C]  Tower RH [%]  \\\n",
       "0                        0.988                        -7.312         32.33   \n",
       "1                        1.040                        -7.260         32.40   \n",
       "2                        1.093                        -7.207         32.54   \n",
       "\n",
       "   Total Cloud Cover [%]  Peak Wind Speed @ 6ft [m/s]  \\\n",
       "0                     -1                         9.95   \n",
       "1                     -1                         8.20   \n",
       "2                     -1                         6.70   \n",
       "\n",
       "   Avg Wind Direction @ 6ft [deg from N]  Station Pressure [mBar]  \\\n",
       "0                                  271.3                  806.779   \n",
       "1                                  272.9                  806.840   \n",
       "2                                  288.8                  806.876   \n",
       "\n",
       "   Precipitation (Accumulated) [mm]  Snow Depth [cm]  Moisture  Albedo (CMP11)  \n",
       "0                               0.0            0.219       0.0             0.0  \n",
       "1                               0.0            0.206       0.0             0.0  \n",
       "2                               0.0            0.148       0.0             0.0  "
      ]
     },
     "execution_count": 114,
     "metadata": {},
     "output_type": "execute_result"
    }
   ],
   "source": [
    "data.head(3)"
   ]
  },
  {
   "cell_type": "code",
   "execution_count": 115,
   "id": "cb9c4f23-2e13-4b10-a0b7-7260b612c678",
   "metadata": {},
   "outputs": [
    {
     "name": "stdout",
     "output_type": "stream",
     "text": [
      "<class 'pandas.core.frame.DataFrame'>\n",
      "RangeIndex: 527040 entries, 0 to 527039\n",
      "Data columns (total 17 columns):\n",
      " #   Column                                 Non-Null Count   Dtype  \n",
      "---  ------                                 --------------   -----  \n",
      " 0   DATE (MM/DD)                           527040 non-null  object \n",
      " 1   MST                                    527040 non-null  object \n",
      " 2   Global CMP22 (vent/cor) [W/m^2]        527040 non-null  float64\n",
      " 3   Direct sNIP [W/m^2]                    527040 non-null  float64\n",
      " 4   Azimuth Angle [degrees]                527040 non-null  float64\n",
      " 5   Tower Dry Bulb Temp [deg C]            527040 non-null  float64\n",
      " 6   Tower Wet Bulb Temp [deg C]            527040 non-null  float64\n",
      " 7   Tower Dew Point Temp [deg C]           527040 non-null  float64\n",
      " 8   Tower RH [%]                           527040 non-null  float64\n",
      " 9   Total Cloud Cover [%]                  527040 non-null  int64  \n",
      " 10  Peak Wind Speed @ 6ft [m/s]            527040 non-null  float64\n",
      " 11  Avg Wind Direction @ 6ft [deg from N]  527040 non-null  float64\n",
      " 12  Station Pressure [mBar]                527040 non-null  float64\n",
      " 13  Precipitation (Accumulated) [mm]       527040 non-null  float64\n",
      " 14  Snow Depth [cm]                        527040 non-null  float64\n",
      " 15  Moisture                               527040 non-null  float64\n",
      " 16  Albedo (CMP11)                         527040 non-null  float64\n",
      "dtypes: float64(14), int64(1), object(2)\n",
      "memory usage: 68.4+ MB\n"
     ]
    }
   ],
   "source": [
    "data.info()"
   ]
  },
  {
   "cell_type": "code",
   "execution_count": 119,
   "id": "c1864076-ff7d-4a91-ba90-0b4573b2d6c7",
   "metadata": {
    "collapsed": true,
    "jupyter": {
     "outputs_hidden": true
    },
    "tags": []
   },
   "outputs": [
    {
     "data": {
      "text/plain": [
       "array(['1/1', '1/2', '1/3', '1/4', '1/5', '1/6', '1/7', '1/8', '1/9',\n",
       "       '1/10', '1/11', '1/12', '1/13', '1/14', '1/15', '1/16', '1/17',\n",
       "       '1/18', '1/19', '1/20', '1/21', '1/22', '1/23', '1/24', '1/25',\n",
       "       '1/26', '1/27', '1/28', '1/29', '1/30', '1/31', '2/1', '2/2',\n",
       "       '2/3', '2/4', '2/5', '2/6', '2/7', '2/8', '2/9', '2/10', '2/11',\n",
       "       '2/12', '2/13', '2/14', '2/15', '2/16', '2/17', '2/18', '2/19',\n",
       "       '2/20', '2/21', '2/22', '2/23', '2/24', '2/25', '2/26', '2/27',\n",
       "       '2/28', '2/29', '3/1', '3/2', '3/3', '3/4', '3/5', '3/6', '3/7',\n",
       "       '3/8', '3/9', '3/10', '3/11', '3/12', '3/13', '3/14', '3/15',\n",
       "       '3/16', '3/17', '3/18', '3/19', '3/20', '3/21', '3/22', '3/23',\n",
       "       '3/24', '3/25', '3/26', '3/27', '3/28', '3/29', '3/30', '3/31',\n",
       "       '4/1', '4/2', '4/3', '4/4', '4/5', '4/6', '4/7', '4/8', '4/9',\n",
       "       '4/10', '4/11', '4/12', '4/13', '4/14', '4/15', '4/16', '4/17',\n",
       "       '4/18', '4/19', '4/20', '4/21', '4/22', '4/23', '4/24', '4/25',\n",
       "       '4/26', '4/27', '4/28', '4/29', '4/30', '5/1', '5/2', '5/3', '5/4',\n",
       "       '5/5', '5/6', '5/7', '5/8', '5/9', '5/10', '5/11', '5/12', '5/13',\n",
       "       '5/14', '5/15', '5/16', '5/17', '5/18', '5/19', '5/20', '5/21',\n",
       "       '5/22', '5/23', '5/24', '5/25', '5/26', '5/27', '5/28', '5/29',\n",
       "       '5/30', '5/31', '6/1', '6/2', '6/3', '6/4', '6/5', '6/6', '6/7',\n",
       "       '6/8', '6/9', '6/10', '6/11', '6/12', '6/13', '6/14', '6/15',\n",
       "       '6/16', '6/17', '6/18', '6/19', '6/20', '6/21', '6/22', '6/23',\n",
       "       '6/24', '6/25', '6/26', '6/27', '6/28', '6/29', '6/30', '7/1',\n",
       "       '7/2', '7/3', '7/4', '7/5', '7/6', '7/7', '7/8', '7/9', '7/10',\n",
       "       '7/11', '7/12', '7/13', '7/14', '7/15', '7/16', '7/17', '7/18',\n",
       "       '7/19', '7/20', '7/21', '7/22', '7/23', '7/24', '7/25', '7/26',\n",
       "       '7/27', '7/28', '7/29', '7/30', '7/31', '8/1', '8/2', '8/3', '8/4',\n",
       "       '8/5', '8/6', '8/7', '8/8', '8/9', '8/10', '8/11', '8/12', '8/13',\n",
       "       '8/14', '8/15', '8/16', '8/17', '8/18', '8/19', '8/20', '8/21',\n",
       "       '8/22', '8/23', '8/24', '8/25', '8/26', '8/27', '8/28', '8/29',\n",
       "       '8/30', '8/31', '9/1', '9/2', '9/3', '9/4', '9/5', '9/6', '9/7',\n",
       "       '9/8', '9/9', '9/10', '9/11', '9/12', '9/13', '9/14', '9/15',\n",
       "       '9/16', '9/17', '9/18', '9/19', '9/20', '9/21', '9/22', '9/23',\n",
       "       '9/24', '9/25', '9/26', '9/27', '9/28', '9/29', '9/30', '10/1',\n",
       "       '10/2', '10/3', '10/4', '10/5', '10/6', '10/7', '10/8', '10/9',\n",
       "       '10/10', '10/11', '10/12', '10/13', '10/14', '10/15', '10/16',\n",
       "       '10/17', '10/18', '10/19', '10/20', '10/21', '10/22', '10/23',\n",
       "       '10/24', '10/25', '10/26', '10/27', '10/28', '10/29', '10/30',\n",
       "       '10/31', '11/1', '11/2', '11/3', '11/4', '11/5', '11/6', '11/7',\n",
       "       '11/8', '11/9', '11/10', '11/11', '11/12', '11/13', '11/14',\n",
       "       '11/15', '11/16', '11/17', '11/18', '11/19', '11/20', '11/21',\n",
       "       '11/22', '11/23', '11/24', '11/25', '11/26', '11/27', '11/28',\n",
       "       '11/29', '11/30', '12/1', '12/2', '12/3', '12/4', '12/5', '12/6',\n",
       "       '12/7', '12/8', '12/9', '12/10', '12/11', '12/12', '12/13',\n",
       "       '12/14', '12/15', '12/16', '12/17', '12/18', '12/19', '12/20',\n",
       "       '12/21', '12/22', '12/23', '12/24', '12/25', '12/26', '12/27',\n",
       "       '12/28', '12/29', '12/30', '12/31'], dtype=object)"
      ]
     },
     "execution_count": 119,
     "metadata": {},
     "output_type": "execute_result"
    }
   ],
   "source": [
    "data[\"DATE (MM/DD)\"].unique()"
   ]
  }
 ],
 "metadata": {
  "kernelspec": {
   "display_name": "opencv",
   "language": "python",
   "name": "opencv"
  },
  "language_info": {
   "codemirror_mode": {
    "name": "ipython",
    "version": 3
   },
   "file_extension": ".py",
   "mimetype": "text/x-python",
   "name": "python",
   "nbconvert_exporter": "python",
   "pygments_lexer": "ipython3",
   "version": "3.7.10"
  }
 },
 "nbformat": 4,
 "nbformat_minor": 5
}

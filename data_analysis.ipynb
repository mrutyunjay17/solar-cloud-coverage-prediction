{
 "cells": [
  {
   "cell_type": "markdown",
   "id": "f82660b1-01e1-4fa3-a703-e33f4dcad626",
   "metadata": {},
   "source": [
    "# Predict cloud coverage\n",
    "\n",
    "- Predicting cloud cover in a short time span of 120 minutes is very challenging.\n",
    "- On this time scale, changes in local cloud cover are driven by a combination of dynamical and physical parameters such as wind speed, wind direction sea-level pressure, humidity, and temperature over the asset of our interest.\n",
    "- Short interval cloud cover prediction requires accurate estimates of cloud motion and presence using weather data and sky camera images or physics-based&nbsp;weather models or a combination of both. \n",
    "\n",
    "## Goal:\n",
    "### Predict the percentage of total cloud coverage for the next upcoming intervals using the available weather and sky camera data recorded for 6 hours window.  \n",
    "\n",
    "We are expected to predict the total cloud coverage as a percentage of the open sky for a fixed field of view at 4 horizon intervals of 30, 60, 90, and 120 minutes from a 6-hour window of historical data.  \n",
    "\n",
    "While validating and testing the predictions made by model, we are not supposed to consider **DATE (MM/DD)** and **MST** in a day as input features.  \n",
    "So the task at hand is to make a model which will be generic throughout the year for any day and any time.  \n",
    "\n",
    "So to decide Training Strategies, let's first explore our data."
   ]
  },
  {
   "cell_type": "code",
   "execution_count": 1,
   "id": "8e1148cd-45d6-40ae-a0a7-32d5e934e7a6",
   "metadata": {},
   "outputs": [],
   "source": [
    "import pandas as pd\n",
    "import numpy as np\n",
    "%matplotlib inline\n",
    "import matplotlib.pyplot as plt\n",
    "import os"
   ]
  },
  {
   "cell_type": "code",
   "execution_count": 2,
   "id": "665e8eb2-7aca-4a80-97a2-59e779e5cb61",
   "metadata": {},
   "outputs": [],
   "source": [
    "PATH_FOLDER_DATASET = \"dataset\"\n",
    "PATH_FOLDER_TRAINING = os.path.join(PATH_FOLDER_DATASET,\"train\")"
   ]
  },
  {
   "cell_type": "markdown",
   "id": "11fb1cf1-a52d-4f93-9367-91f7a00e574c",
   "metadata": {},
   "source": [
    "Let's import training dataset"
   ]
  },
  {
   "cell_type": "code",
   "execution_count": 3,
   "id": "9120c6cc-2b92-4359-8f50-871d11856d19",
   "metadata": {},
   "outputs": [
    {
     "data": {
      "text/html": [
       "<div>\n",
       "<style scoped>\n",
       "    .dataframe tbody tr th:only-of-type {\n",
       "        vertical-align: middle;\n",
       "    }\n",
       "\n",
       "    .dataframe tbody tr th {\n",
       "        vertical-align: top;\n",
       "    }\n",
       "\n",
       "    .dataframe thead th {\n",
       "        text-align: right;\n",
       "    }\n",
       "</style>\n",
       "<table border=\"1\" class=\"dataframe\">\n",
       "  <thead>\n",
       "    <tr style=\"text-align: right;\">\n",
       "      <th></th>\n",
       "      <th>DATE (MM/DD)</th>\n",
       "      <th>MST</th>\n",
       "      <th>Global CMP22 (vent/cor) [W/m^2]</th>\n",
       "      <th>Direct sNIP [W/m^2]</th>\n",
       "      <th>Azimuth Angle [degrees]</th>\n",
       "      <th>Tower Dry Bulb Temp [deg C]</th>\n",
       "      <th>Tower Wet Bulb Temp [deg C]</th>\n",
       "      <th>Tower Dew Point Temp [deg C]</th>\n",
       "      <th>Tower RH [%]</th>\n",
       "      <th>Total Cloud Cover [%]</th>\n",
       "      <th>Peak Wind Speed @ 6ft [m/s]</th>\n",
       "      <th>Avg Wind Direction @ 6ft [deg from N]</th>\n",
       "      <th>Station Pressure [mBar]</th>\n",
       "      <th>Precipitation (Accumulated) [mm]</th>\n",
       "      <th>Snow Depth [cm]</th>\n",
       "      <th>Moisture</th>\n",
       "      <th>Albedo (CMP11)</th>\n",
       "    </tr>\n",
       "  </thead>\n",
       "  <tbody>\n",
       "    <tr>\n",
       "      <th>0</th>\n",
       "      <td>1/1</td>\n",
       "      <td>00:00</td>\n",
       "      <td>-0.962276</td>\n",
       "      <td>0.000000</td>\n",
       "      <td>356.85640</td>\n",
       "      <td>7.216</td>\n",
       "      <td>0.988</td>\n",
       "      <td>-7.312</td>\n",
       "      <td>32.33</td>\n",
       "      <td>-1</td>\n",
       "      <td>9.95</td>\n",
       "      <td>271.3</td>\n",
       "      <td>806.779</td>\n",
       "      <td>0.0</td>\n",
       "      <td>0.219</td>\n",
       "      <td>0.0</td>\n",
       "      <td>0.0</td>\n",
       "    </tr>\n",
       "    <tr>\n",
       "      <th>1</th>\n",
       "      <td>1/1</td>\n",
       "      <td>00:01</td>\n",
       "      <td>-0.937921</td>\n",
       "      <td>0.000000</td>\n",
       "      <td>357.65505</td>\n",
       "      <td>7.251</td>\n",
       "      <td>1.040</td>\n",
       "      <td>-7.260</td>\n",
       "      <td>32.40</td>\n",
       "      <td>-1</td>\n",
       "      <td>8.20</td>\n",
       "      <td>272.9</td>\n",
       "      <td>806.840</td>\n",
       "      <td>0.0</td>\n",
       "      <td>0.206</td>\n",
       "      <td>0.0</td>\n",
       "      <td>0.0</td>\n",
       "    </tr>\n",
       "    <tr>\n",
       "      <th>2</th>\n",
       "      <td>1/1</td>\n",
       "      <td>00:02</td>\n",
       "      <td>-0.944395</td>\n",
       "      <td>0.000000</td>\n",
       "      <td>358.45438</td>\n",
       "      <td>7.256</td>\n",
       "      <td>1.093</td>\n",
       "      <td>-7.207</td>\n",
       "      <td>32.54</td>\n",
       "      <td>-1</td>\n",
       "      <td>6.70</td>\n",
       "      <td>288.8</td>\n",
       "      <td>806.876</td>\n",
       "      <td>0.0</td>\n",
       "      <td>0.148</td>\n",
       "      <td>0.0</td>\n",
       "      <td>0.0</td>\n",
       "    </tr>\n",
       "    <tr>\n",
       "      <th>3</th>\n",
       "      <td>1/1</td>\n",
       "      <td>00:03</td>\n",
       "      <td>-0.951350</td>\n",
       "      <td>-0.029673</td>\n",
       "      <td>359.25416</td>\n",
       "      <td>7.254</td>\n",
       "      <td>1.060</td>\n",
       "      <td>-7.440</td>\n",
       "      <td>31.89</td>\n",
       "      <td>-1</td>\n",
       "      <td>7.70</td>\n",
       "      <td>294.0</td>\n",
       "      <td>806.823</td>\n",
       "      <td>0.0</td>\n",
       "      <td>0.235</td>\n",
       "      <td>0.0</td>\n",
       "      <td>0.0</td>\n",
       "    </tr>\n",
       "    <tr>\n",
       "      <th>4</th>\n",
       "      <td>1/1</td>\n",
       "      <td>00:04</td>\n",
       "      <td>-0.934976</td>\n",
       "      <td>-0.054401</td>\n",
       "      <td>0.05415</td>\n",
       "      <td>7.331</td>\n",
       "      <td>1.081</td>\n",
       "      <td>-7.419</td>\n",
       "      <td>31.78</td>\n",
       "      <td>-1</td>\n",
       "      <td>7.20</td>\n",
       "      <td>285.5</td>\n",
       "      <td>806.762</td>\n",
       "      <td>0.0</td>\n",
       "      <td>0.182</td>\n",
       "      <td>0.0</td>\n",
       "      <td>0.0</td>\n",
       "    </tr>\n",
       "  </tbody>\n",
       "</table>\n",
       "</div>"
      ],
      "text/plain": [
       "  DATE (MM/DD)    MST  Global CMP22 (vent/cor) [W/m^2]  Direct sNIP [W/m^2]  \\\n",
       "0          1/1  00:00                        -0.962276             0.000000   \n",
       "1          1/1  00:01                        -0.937921             0.000000   \n",
       "2          1/1  00:02                        -0.944395             0.000000   \n",
       "3          1/1  00:03                        -0.951350            -0.029673   \n",
       "4          1/1  00:04                        -0.934976            -0.054401   \n",
       "\n",
       "   Azimuth Angle [degrees]  Tower Dry Bulb Temp [deg C]  \\\n",
       "0                356.85640                        7.216   \n",
       "1                357.65505                        7.251   \n",
       "2                358.45438                        7.256   \n",
       "3                359.25416                        7.254   \n",
       "4                  0.05415                        7.331   \n",
       "\n",
       "   Tower Wet Bulb Temp [deg C]  Tower Dew Point Temp [deg C]  Tower RH [%]  \\\n",
       "0                        0.988                        -7.312         32.33   \n",
       "1                        1.040                        -7.260         32.40   \n",
       "2                        1.093                        -7.207         32.54   \n",
       "3                        1.060                        -7.440         31.89   \n",
       "4                        1.081                        -7.419         31.78   \n",
       "\n",
       "   Total Cloud Cover [%]  Peak Wind Speed @ 6ft [m/s]  \\\n",
       "0                     -1                         9.95   \n",
       "1                     -1                         8.20   \n",
       "2                     -1                         6.70   \n",
       "3                     -1                         7.70   \n",
       "4                     -1                         7.20   \n",
       "\n",
       "   Avg Wind Direction @ 6ft [deg from N]  Station Pressure [mBar]  \\\n",
       "0                                  271.3                  806.779   \n",
       "1                                  272.9                  806.840   \n",
       "2                                  288.8                  806.876   \n",
       "3                                  294.0                  806.823   \n",
       "4                                  285.5                  806.762   \n",
       "\n",
       "   Precipitation (Accumulated) [mm]  Snow Depth [cm]  Moisture  Albedo (CMP11)  \n",
       "0                               0.0            0.219       0.0             0.0  \n",
       "1                               0.0            0.206       0.0             0.0  \n",
       "2                               0.0            0.148       0.0             0.0  \n",
       "3                               0.0            0.235       0.0             0.0  \n",
       "4                               0.0            0.182       0.0             0.0  "
      ]
     },
     "execution_count": 3,
     "metadata": {},
     "output_type": "execute_result"
    }
   ],
   "source": [
    "weather_df = pd.read_csv(os.path.join(PATH_FOLDER_TRAINING, \"train.csv\"))\n",
    "weather_df.head(5)"
   ]
  },
  {
   "cell_type": "code",
   "execution_count": 4,
   "id": "d0e28951-6b52-40e2-938e-eb7ed10dac72",
   "metadata": {},
   "outputs": [
    {
     "data": {
      "text/plain": [
       "(527040, 17)"
      ]
     },
     "execution_count": 4,
     "metadata": {},
     "output_type": "execute_result"
    }
   ],
   "source": [
    "weather_df.shape"
   ]
  },
  {
   "cell_type": "markdown",
   "id": "04db990b-a092-4dd7-87aa-d0e072327c75",
   "metadata": {},
   "source": [
    "The local weather data was recorded for 366 days for 1 minute frequency, this makes $366\\times24\\times60 = 527040$ rows, which is correct  \n",
    "\n",
    "Now the raw sky camera images were recorded at 10 minute frquence for the same duration. Let's see total number of images"
   ]
  },
  {
   "cell_type": "code",
   "execution_count": 5,
   "id": "b39daeaf-bd43-41f2-8c7b-c44eb691c4bb",
   "metadata": {},
   "outputs": [],
   "source": [
    "import filetype \n",
    "\n",
    "images_count = {}\n",
    "junks_count = {}\n",
    "\n",
    "for file in os.scandir(PATH_FOLDER_TRAINING):\n",
    "    if file.is_dir():\n",
    "        images_count[file.name] = 0\n",
    "        junks_count[file.name] = 0\n",
    "        \n",
    "        for image in os.scandir(file.path):\n",
    "            if filetype.is_image(image.path):\n",
    "                images_count[file.name] += 1\n",
    "            else:\n",
    "                junks_count[file.name] += 1\n",
    "\n",
    "junks_count = np.array(list(junks_count.items()), dtype=object)\n",
    "images_count = np.array(list(images_count.items()), dtype=object)"
   ]
  },
  {
   "cell_type": "code",
   "execution_count": 6,
   "id": "b19966ca-0de0-420b-8273-f77961c617b0",
   "metadata": {},
   "outputs": [
    {
     "name": "stdout",
     "output_type": "stream",
     "text": [
      "Junk files in image folder:  []\n",
      "Folders with no images recorded:  ['0404' '0405']\n"
     ]
    }
   ],
   "source": [
    "print(\"Junk files in image folder: \", junks_count[np.where(junks_count[:, 1] > 0)])\n",
    "print(\"Folders with no images recorded: \", images_count[np.where(images_count[:, 1] == 0)][:,0])"
   ]
  },
  {
   "cell_type": "markdown",
   "id": "adb570d9-1302-4ffc-af8c-c2ba55f5cd7c",
   "metadata": {},
   "source": [
    "Seems like images were not recorded on 4th & 5th April. Maybe we won't be able to consider weather data for these 2 dates during training. Althugh nothing junk found!  \n",
    "\n",
    "\n",
    "Since images were captured with 10 mins frquency in a day, let's take a peek at image counts per day."
   ]
  },
  {
   "cell_type": "code",
   "execution_count": 7,
   "id": "4eed5301-1aa7-46ed-ab49-77a3da6e39e1",
   "metadata": {},
   "outputs": [
    {
     "name": "stdout",
     "output_type": "stream",
     "text": [
      "Unique image counts per folder (day):\n"
     ]
    },
    {
     "data": {
      "text/plain": [
       "array([0, 5, 7, 11, 12, 13, 14, 28, 31, 50, 52, 53, 54, 55, 56, 57, 58,\n",
       "       59, 60, 61, 62, 63, 64, 65, 66, 67, 68, 69, 70, 71, 72, 73, 74, 75,\n",
       "       76, 77, 78, 79, 80, 81, 82, 83, 84, 85, 86, 87, 88, 89],\n",
       "      dtype=object)"
      ]
     },
     "execution_count": 7,
     "metadata": {},
     "output_type": "execute_result"
    }
   ],
   "source": [
    "print(\"Unique image counts per folder (day):\")\n",
    "np.unique(images_count[:,1])"
   ]
  },
  {
   "cell_type": "markdown",
   "id": "c5eb1393-5a1a-4810-8a03-a21b8984e51e",
   "metadata": {
    "jupyter": {
     "outputs_hidden": true
    },
    "tags": []
   },
   "source": [
    "Very irregular!  \n",
    "\n",
    "## Analyzing Weather Data"
   ]
  },
  {
   "cell_type": "code",
   "execution_count": 8,
   "id": "2ee6afc6-ade2-4b9b-8cdd-872540abde52",
   "metadata": {},
   "outputs": [
    {
     "data": {
      "text/html": [
       "<div>\n",
       "<style scoped>\n",
       "    .dataframe tbody tr th:only-of-type {\n",
       "        vertical-align: middle;\n",
       "    }\n",
       "\n",
       "    .dataframe tbody tr th {\n",
       "        vertical-align: top;\n",
       "    }\n",
       "\n",
       "    .dataframe thead th {\n",
       "        text-align: right;\n",
       "    }\n",
       "</style>\n",
       "<table border=\"1\" class=\"dataframe\">\n",
       "  <thead>\n",
       "    <tr style=\"text-align: right;\">\n",
       "      <th></th>\n",
       "      <th>DATE (MM/DD)</th>\n",
       "      <th>MST</th>\n",
       "      <th>Global CMP22 (vent/cor) [W/m^2]</th>\n",
       "      <th>Direct sNIP [W/m^2]</th>\n",
       "      <th>Azimuth Angle [degrees]</th>\n",
       "      <th>Tower Dry Bulb Temp [deg C]</th>\n",
       "      <th>Tower Wet Bulb Temp [deg C]</th>\n",
       "      <th>Tower Dew Point Temp [deg C]</th>\n",
       "      <th>Tower RH [%]</th>\n",
       "      <th>Total Cloud Cover [%]</th>\n",
       "      <th>Peak Wind Speed @ 6ft [m/s]</th>\n",
       "      <th>Avg Wind Direction @ 6ft [deg from N]</th>\n",
       "      <th>Station Pressure [mBar]</th>\n",
       "      <th>Precipitation (Accumulated) [mm]</th>\n",
       "      <th>Snow Depth [cm]</th>\n",
       "      <th>Moisture</th>\n",
       "      <th>Albedo (CMP11)</th>\n",
       "    </tr>\n",
       "  </thead>\n",
       "  <tbody>\n",
       "    <tr>\n",
       "      <th>0</th>\n",
       "      <td>1/1</td>\n",
       "      <td>00:00</td>\n",
       "      <td>-0.962276</td>\n",
       "      <td>0.0</td>\n",
       "      <td>356.85640</td>\n",
       "      <td>7.216</td>\n",
       "      <td>0.988</td>\n",
       "      <td>-7.312</td>\n",
       "      <td>32.33</td>\n",
       "      <td>-1</td>\n",
       "      <td>9.95</td>\n",
       "      <td>271.3</td>\n",
       "      <td>806.779</td>\n",
       "      <td>0.0</td>\n",
       "      <td>0.219</td>\n",
       "      <td>0.0</td>\n",
       "      <td>0.0</td>\n",
       "    </tr>\n",
       "    <tr>\n",
       "      <th>1</th>\n",
       "      <td>1/1</td>\n",
       "      <td>00:01</td>\n",
       "      <td>-0.937921</td>\n",
       "      <td>0.0</td>\n",
       "      <td>357.65505</td>\n",
       "      <td>7.251</td>\n",
       "      <td>1.040</td>\n",
       "      <td>-7.260</td>\n",
       "      <td>32.40</td>\n",
       "      <td>-1</td>\n",
       "      <td>8.20</td>\n",
       "      <td>272.9</td>\n",
       "      <td>806.840</td>\n",
       "      <td>0.0</td>\n",
       "      <td>0.206</td>\n",
       "      <td>0.0</td>\n",
       "      <td>0.0</td>\n",
       "    </tr>\n",
       "    <tr>\n",
       "      <th>2</th>\n",
       "      <td>1/1</td>\n",
       "      <td>00:02</td>\n",
       "      <td>-0.944395</td>\n",
       "      <td>0.0</td>\n",
       "      <td>358.45438</td>\n",
       "      <td>7.256</td>\n",
       "      <td>1.093</td>\n",
       "      <td>-7.207</td>\n",
       "      <td>32.54</td>\n",
       "      <td>-1</td>\n",
       "      <td>6.70</td>\n",
       "      <td>288.8</td>\n",
       "      <td>806.876</td>\n",
       "      <td>0.0</td>\n",
       "      <td>0.148</td>\n",
       "      <td>0.0</td>\n",
       "      <td>0.0</td>\n",
       "    </tr>\n",
       "  </tbody>\n",
       "</table>\n",
       "</div>"
      ],
      "text/plain": [
       "  DATE (MM/DD)    MST  Global CMP22 (vent/cor) [W/m^2]  Direct sNIP [W/m^2]  \\\n",
       "0          1/1  00:00                        -0.962276                  0.0   \n",
       "1          1/1  00:01                        -0.937921                  0.0   \n",
       "2          1/1  00:02                        -0.944395                  0.0   \n",
       "\n",
       "   Azimuth Angle [degrees]  Tower Dry Bulb Temp [deg C]  \\\n",
       "0                356.85640                        7.216   \n",
       "1                357.65505                        7.251   \n",
       "2                358.45438                        7.256   \n",
       "\n",
       "   Tower Wet Bulb Temp [deg C]  Tower Dew Point Temp [deg C]  Tower RH [%]  \\\n",
       "0                        0.988                        -7.312         32.33   \n",
       "1                        1.040                        -7.260         32.40   \n",
       "2                        1.093                        -7.207         32.54   \n",
       "\n",
       "   Total Cloud Cover [%]  Peak Wind Speed @ 6ft [m/s]  \\\n",
       "0                     -1                         9.95   \n",
       "1                     -1                         8.20   \n",
       "2                     -1                         6.70   \n",
       "\n",
       "   Avg Wind Direction @ 6ft [deg from N]  Station Pressure [mBar]  \\\n",
       "0                                  271.3                  806.779   \n",
       "1                                  272.9                  806.840   \n",
       "2                                  288.8                  806.876   \n",
       "\n",
       "   Precipitation (Accumulated) [mm]  Snow Depth [cm]  Moisture  Albedo (CMP11)  \n",
       "0                               0.0            0.219       0.0             0.0  \n",
       "1                               0.0            0.206       0.0             0.0  \n",
       "2                               0.0            0.148       0.0             0.0  "
      ]
     },
     "execution_count": 8,
     "metadata": {},
     "output_type": "execute_result"
    }
   ],
   "source": [
    "weather_df.head(3)"
   ]
  },
  {
   "cell_type": "code",
   "execution_count": 9,
   "id": "cb9c4f23-2e13-4b10-a0b7-7260b612c678",
   "metadata": {},
   "outputs": [
    {
     "name": "stdout",
     "output_type": "stream",
     "text": [
      "<class 'pandas.core.frame.DataFrame'>\n",
      "RangeIndex: 527040 entries, 0 to 527039\n",
      "Data columns (total 17 columns):\n",
      " #   Column                                 Non-Null Count   Dtype  \n",
      "---  ------                                 --------------   -----  \n",
      " 0   DATE (MM/DD)                           527040 non-null  object \n",
      " 1   MST                                    527040 non-null  object \n",
      " 2   Global CMP22 (vent/cor) [W/m^2]        527040 non-null  float64\n",
      " 3   Direct sNIP [W/m^2]                    527040 non-null  float64\n",
      " 4   Azimuth Angle [degrees]                527040 non-null  float64\n",
      " 5   Tower Dry Bulb Temp [deg C]            527040 non-null  float64\n",
      " 6   Tower Wet Bulb Temp [deg C]            527040 non-null  float64\n",
      " 7   Tower Dew Point Temp [deg C]           527040 non-null  float64\n",
      " 8   Tower RH [%]                           527040 non-null  float64\n",
      " 9   Total Cloud Cover [%]                  527040 non-null  int64  \n",
      " 10  Peak Wind Speed @ 6ft [m/s]            527040 non-null  float64\n",
      " 11  Avg Wind Direction @ 6ft [deg from N]  527040 non-null  float64\n",
      " 12  Station Pressure [mBar]                527040 non-null  float64\n",
      " 13  Precipitation (Accumulated) [mm]       527040 non-null  float64\n",
      " 14  Snow Depth [cm]                        527040 non-null  float64\n",
      " 15  Moisture                               527040 non-null  float64\n",
      " 16  Albedo (CMP11)                         527040 non-null  float64\n",
      "dtypes: float64(14), int64(1), object(2)\n",
      "memory usage: 68.4+ MB\n"
     ]
    }
   ],
   "source": [
    "weather_df.info()"
   ]
  },
  {
   "cell_type": "markdown",
   "id": "fe11483f-d952-4967-86b6-13ea78fa5268",
   "metadata": {},
   "source": [
    "Renaming the features to make them simpler to understand.  \n",
    "I have researched some information about significance of each feature and devices that they were measured from and documented [here](https://github.com/mrutyunjay17/solar-power-prediction/blob/main/Documentation.md)."
   ]
  },
  {
   "cell_type": "code",
   "execution_count": 10,
   "id": "c1864076-ff7d-4a91-ba90-0b4573b2d6c7",
   "metadata": {
    "tags": []
   },
   "outputs": [],
   "source": [
    "ORIGINAL_FEATURE_NAMES = weather_df.columns\n",
    "\n",
    "CUSTOM_FEATURE_NAMES = {\n",
    "    'DATE (MM/DD)':'date',\n",
    "    'MST':'time',  \n",
    "    'Global CMP22 (vent/cor) [W/m^2]':'pyranometer',\n",
    "    'Direct sNIP [W/m^2]':'pyroheliometer',  \n",
    "    'Azimuth Angle [degrees]':'azimuth_angle_deg',\n",
    "    'Tower Dry Bulb Temp [deg C]':'tower_dry_bulb_temp_deg', \n",
    "    'Tower Wet Bulb Temp [deg C]':'tower_wet_bulb_temp_deg',\n",
    "    'Tower Dew Point Temp [deg C]':'tower_dew_point_deg', \n",
    "    'Tower RH [%]':'tower_rh_pct', \n",
    "    'Total Cloud Cover [%]':'total_cloud_coverage_pct',\n",
    "    'Peak Wind Speed @ 6ft [m/s]':'peak_wind_speed_mps', \n",
    "    'Avg Wind Direction @ 6ft [deg from N]':'avg_wind_direction_deg',\n",
    "    'Station Pressure [mBar]':'station_pressure_mbar', \n",
    "    'Precipitation (Accumulated) [mm]':'precipitation_mm',\n",
    "    'Snow Depth [cm]':'snow_depth_cm', \n",
    "    'Moisture':'moisture', \n",
    "    'Albedo (CMP11)':'albedometer'\n",
    "}"
   ]
  },
  {
   "cell_type": "code",
   "execution_count": 11,
   "id": "b70c4e7b-cc15-4c88-9dff-2595d89dc641",
   "metadata": {},
   "outputs": [
    {
     "data": {
      "text/html": [
       "<div>\n",
       "<style scoped>\n",
       "    .dataframe tbody tr th:only-of-type {\n",
       "        vertical-align: middle;\n",
       "    }\n",
       "\n",
       "    .dataframe tbody tr th {\n",
       "        vertical-align: top;\n",
       "    }\n",
       "\n",
       "    .dataframe thead th {\n",
       "        text-align: right;\n",
       "    }\n",
       "</style>\n",
       "<table border=\"1\" class=\"dataframe\">\n",
       "  <thead>\n",
       "    <tr style=\"text-align: right;\">\n",
       "      <th></th>\n",
       "      <th>date</th>\n",
       "      <th>time</th>\n",
       "      <th>pyranometer</th>\n",
       "      <th>pyroheliometer</th>\n",
       "      <th>azimuth_angle_deg</th>\n",
       "      <th>tower_dry_bulb_temp_deg</th>\n",
       "      <th>tower_wet_bulb_temp_deg</th>\n",
       "      <th>tower_dew_point_deg</th>\n",
       "      <th>tower_rh_pct</th>\n",
       "      <th>total_cloud_coverage_pct</th>\n",
       "      <th>peak_wind_speed_mps</th>\n",
       "      <th>avg_wind_direction_deg</th>\n",
       "      <th>station_pressure_mbar</th>\n",
       "      <th>precipitation_mm</th>\n",
       "      <th>snow_depth_cm</th>\n",
       "      <th>moisture</th>\n",
       "      <th>albedometer</th>\n",
       "    </tr>\n",
       "  </thead>\n",
       "  <tbody>\n",
       "    <tr>\n",
       "      <th>0</th>\n",
       "      <td>1/1</td>\n",
       "      <td>00:00</td>\n",
       "      <td>-0.962276</td>\n",
       "      <td>0.000000</td>\n",
       "      <td>356.85640</td>\n",
       "      <td>7.216</td>\n",
       "      <td>0.988</td>\n",
       "      <td>-7.312</td>\n",
       "      <td>32.33</td>\n",
       "      <td>-1</td>\n",
       "      <td>9.95</td>\n",
       "      <td>271.3</td>\n",
       "      <td>806.779</td>\n",
       "      <td>0.0</td>\n",
       "      <td>0.219</td>\n",
       "      <td>0.0</td>\n",
       "      <td>0.0</td>\n",
       "    </tr>\n",
       "    <tr>\n",
       "      <th>1</th>\n",
       "      <td>1/1</td>\n",
       "      <td>00:01</td>\n",
       "      <td>-0.937921</td>\n",
       "      <td>0.000000</td>\n",
       "      <td>357.65505</td>\n",
       "      <td>7.251</td>\n",
       "      <td>1.040</td>\n",
       "      <td>-7.260</td>\n",
       "      <td>32.40</td>\n",
       "      <td>-1</td>\n",
       "      <td>8.20</td>\n",
       "      <td>272.9</td>\n",
       "      <td>806.840</td>\n",
       "      <td>0.0</td>\n",
       "      <td>0.206</td>\n",
       "      <td>0.0</td>\n",
       "      <td>0.0</td>\n",
       "    </tr>\n",
       "    <tr>\n",
       "      <th>2</th>\n",
       "      <td>1/1</td>\n",
       "      <td>00:02</td>\n",
       "      <td>-0.944395</td>\n",
       "      <td>0.000000</td>\n",
       "      <td>358.45438</td>\n",
       "      <td>7.256</td>\n",
       "      <td>1.093</td>\n",
       "      <td>-7.207</td>\n",
       "      <td>32.54</td>\n",
       "      <td>-1</td>\n",
       "      <td>6.70</td>\n",
       "      <td>288.8</td>\n",
       "      <td>806.876</td>\n",
       "      <td>0.0</td>\n",
       "      <td>0.148</td>\n",
       "      <td>0.0</td>\n",
       "      <td>0.0</td>\n",
       "    </tr>\n",
       "    <tr>\n",
       "      <th>3</th>\n",
       "      <td>1/1</td>\n",
       "      <td>00:03</td>\n",
       "      <td>-0.951350</td>\n",
       "      <td>-0.029673</td>\n",
       "      <td>359.25416</td>\n",
       "      <td>7.254</td>\n",
       "      <td>1.060</td>\n",
       "      <td>-7.440</td>\n",
       "      <td>31.89</td>\n",
       "      <td>-1</td>\n",
       "      <td>7.70</td>\n",
       "      <td>294.0</td>\n",
       "      <td>806.823</td>\n",
       "      <td>0.0</td>\n",
       "      <td>0.235</td>\n",
       "      <td>0.0</td>\n",
       "      <td>0.0</td>\n",
       "    </tr>\n",
       "  </tbody>\n",
       "</table>\n",
       "</div>"
      ],
      "text/plain": [
       "  date   time  pyranometer  pyroheliometer  azimuth_angle_deg  \\\n",
       "0  1/1  00:00    -0.962276        0.000000          356.85640   \n",
       "1  1/1  00:01    -0.937921        0.000000          357.65505   \n",
       "2  1/1  00:02    -0.944395        0.000000          358.45438   \n",
       "3  1/1  00:03    -0.951350       -0.029673          359.25416   \n",
       "\n",
       "   tower_dry_bulb_temp_deg  tower_wet_bulb_temp_deg  tower_dew_point_deg  \\\n",
       "0                    7.216                    0.988               -7.312   \n",
       "1                    7.251                    1.040               -7.260   \n",
       "2                    7.256                    1.093               -7.207   \n",
       "3                    7.254                    1.060               -7.440   \n",
       "\n",
       "   tower_rh_pct  total_cloud_coverage_pct  peak_wind_speed_mps  \\\n",
       "0         32.33                        -1                 9.95   \n",
       "1         32.40                        -1                 8.20   \n",
       "2         32.54                        -1                 6.70   \n",
       "3         31.89                        -1                 7.70   \n",
       "\n",
       "   avg_wind_direction_deg  station_pressure_mbar  precipitation_mm  \\\n",
       "0                   271.3                806.779               0.0   \n",
       "1                   272.9                806.840               0.0   \n",
       "2                   288.8                806.876               0.0   \n",
       "3                   294.0                806.823               0.0   \n",
       "\n",
       "   snow_depth_cm  moisture  albedometer  \n",
       "0          0.219       0.0          0.0  \n",
       "1          0.206       0.0          0.0  \n",
       "2          0.148       0.0          0.0  \n",
       "3          0.235       0.0          0.0  "
      ]
     },
     "execution_count": 11,
     "metadata": {},
     "output_type": "execute_result"
    }
   ],
   "source": [
    "weather_df.rename(columns=CUSTOM_FEATURE_NAMES, inplace=True)\n",
    "weather_df.head(4)"
   ]
  },
  {
   "cell_type": "markdown",
   "id": "64f304e2-5e02-4cde-a2df-8c1b2f7399ee",
   "metadata": {},
   "source": [
    "Let's check for null values."
   ]
  },
  {
   "cell_type": "code",
   "execution_count": 12,
   "id": "2f5f07f4-eac1-4800-83e3-838142ee85ab",
   "metadata": {},
   "outputs": [
    {
     "data": {
      "text/plain": [
       "date                        0\n",
       "time                        0\n",
       "pyranometer                 0\n",
       "pyroheliometer              0\n",
       "azimuth_angle_deg           0\n",
       "tower_dry_bulb_temp_deg     0\n",
       "tower_wet_bulb_temp_deg     0\n",
       "tower_dew_point_deg         0\n",
       "tower_rh_pct                0\n",
       "total_cloud_coverage_pct    0\n",
       "peak_wind_speed_mps         0\n",
       "avg_wind_direction_deg      0\n",
       "station_pressure_mbar       0\n",
       "precipitation_mm            0\n",
       "snow_depth_cm               0\n",
       "moisture                    0\n",
       "albedometer                 0\n",
       "dtype: int64"
      ]
     },
     "execution_count": 12,
     "metadata": {},
     "output_type": "execute_result"
    }
   ],
   "source": [
    "weather_df.isnull().sum()"
   ]
  },
  {
   "cell_type": "markdown",
   "id": "958dcd76-e4f6-4e94-94b5-e21b344c47e9",
   "metadata": {},
   "source": [
    "Seems like given dataset does not have null values.  \n",
    "\n",
    "But since most of the features are actually readings from different types of sensors, we need to stay aware of presence of for false reading/device problems/irrelavant reading which may interfare with our model looking for unexpected patterns and hinder prediction performance.  \n",
    "\n",
    "### Merging Date Time Columns (Required - Training Pipeline)\n",
    "**Assumption**:  \n",
    "Since we are not provided the year when this data was recorded, and also final model will also not be aware of actual date times, we'll merge date and time columns and append year as some leap year (data was captured for 1 year = 366 days) to make a single datetime column."
   ]
  },
  {
   "cell_type": "code",
   "execution_count": 13,
   "id": "12618563-a934-4689-aac2-a01d704e0bdd",
   "metadata": {},
   "outputs": [],
   "source": [
    "# Merge datetime and get dependant variable as last column\n",
    "def add_datetime_column(weather_df):\n",
    "    column_name = 'datetime'\n",
    "    column_name_cpy = 'datetime_cpy'\n",
    "    \n",
    "    if column_name in weather_df.columns: #Already exists\n",
    "        return weather_df\n",
    "    \n",
    "    weather_df[column_name] = pd.to_datetime('2020/'+weather_df['date']+ ' ' + weather_df['time'])\n",
    "    weather_df[column_name_cpy] = pd.to_datetime('2020/'+weather_df['date']+ ' ' + weather_df['time'])\n",
    "    cloud_coverage = weather_df['total_cloud_coverage_pct']\n",
    "    \n",
    "    weather_df = weather_df.drop(['date', 'time', 'total_cloud_coverage_pct'], axis=1)\n",
    "    weather_df['total_cloud_coverage_pct'] = cloud_coverage\n",
    "    return weather_df"
   ]
  },
  {
   "cell_type": "code",
   "execution_count": 14,
   "id": "e04de800-6c53-4ac0-a1e6-c7d326547519",
   "metadata": {},
   "outputs": [
    {
     "data": {
      "text/html": [
       "<div>\n",
       "<style scoped>\n",
       "    .dataframe tbody tr th:only-of-type {\n",
       "        vertical-align: middle;\n",
       "    }\n",
       "\n",
       "    .dataframe tbody tr th {\n",
       "        vertical-align: top;\n",
       "    }\n",
       "\n",
       "    .dataframe thead th {\n",
       "        text-align: right;\n",
       "    }\n",
       "</style>\n",
       "<table border=\"1\" class=\"dataframe\">\n",
       "  <thead>\n",
       "    <tr style=\"text-align: right;\">\n",
       "      <th></th>\n",
       "      <th>pyranometer</th>\n",
       "      <th>pyroheliometer</th>\n",
       "      <th>azimuth_angle_deg</th>\n",
       "      <th>tower_dry_bulb_temp_deg</th>\n",
       "      <th>tower_wet_bulb_temp_deg</th>\n",
       "      <th>tower_dew_point_deg</th>\n",
       "      <th>tower_rh_pct</th>\n",
       "      <th>peak_wind_speed_mps</th>\n",
       "      <th>avg_wind_direction_deg</th>\n",
       "      <th>station_pressure_mbar</th>\n",
       "      <th>precipitation_mm</th>\n",
       "      <th>snow_depth_cm</th>\n",
       "      <th>moisture</th>\n",
       "      <th>albedometer</th>\n",
       "      <th>datetime_cpy</th>\n",
       "      <th>total_cloud_coverage_pct</th>\n",
       "    </tr>\n",
       "    <tr>\n",
       "      <th>datetime</th>\n",
       "      <th></th>\n",
       "      <th></th>\n",
       "      <th></th>\n",
       "      <th></th>\n",
       "      <th></th>\n",
       "      <th></th>\n",
       "      <th></th>\n",
       "      <th></th>\n",
       "      <th></th>\n",
       "      <th></th>\n",
       "      <th></th>\n",
       "      <th></th>\n",
       "      <th></th>\n",
       "      <th></th>\n",
       "      <th></th>\n",
       "      <th></th>\n",
       "    </tr>\n",
       "  </thead>\n",
       "  <tbody>\n",
       "    <tr>\n",
       "      <th>2020-01-01 00:00:00</th>\n",
       "      <td>-0.962276</td>\n",
       "      <td>0.0</td>\n",
       "      <td>356.85640</td>\n",
       "      <td>7.216</td>\n",
       "      <td>0.988</td>\n",
       "      <td>-7.312</td>\n",
       "      <td>32.33</td>\n",
       "      <td>9.95</td>\n",
       "      <td>271.3</td>\n",
       "      <td>806.779</td>\n",
       "      <td>0.0</td>\n",
       "      <td>0.219</td>\n",
       "      <td>0.0</td>\n",
       "      <td>0.0</td>\n",
       "      <td>2020-01-01 00:00:00</td>\n",
       "      <td>-1</td>\n",
       "    </tr>\n",
       "    <tr>\n",
       "      <th>2020-01-01 00:01:00</th>\n",
       "      <td>-0.937921</td>\n",
       "      <td>0.0</td>\n",
       "      <td>357.65505</td>\n",
       "      <td>7.251</td>\n",
       "      <td>1.040</td>\n",
       "      <td>-7.260</td>\n",
       "      <td>32.40</td>\n",
       "      <td>8.20</td>\n",
       "      <td>272.9</td>\n",
       "      <td>806.840</td>\n",
       "      <td>0.0</td>\n",
       "      <td>0.206</td>\n",
       "      <td>0.0</td>\n",
       "      <td>0.0</td>\n",
       "      <td>2020-01-01 00:01:00</td>\n",
       "      <td>-1</td>\n",
       "    </tr>\n",
       "    <tr>\n",
       "      <th>2020-01-01 00:02:00</th>\n",
       "      <td>-0.944395</td>\n",
       "      <td>0.0</td>\n",
       "      <td>358.45438</td>\n",
       "      <td>7.256</td>\n",
       "      <td>1.093</td>\n",
       "      <td>-7.207</td>\n",
       "      <td>32.54</td>\n",
       "      <td>6.70</td>\n",
       "      <td>288.8</td>\n",
       "      <td>806.876</td>\n",
       "      <td>0.0</td>\n",
       "      <td>0.148</td>\n",
       "      <td>0.0</td>\n",
       "      <td>0.0</td>\n",
       "      <td>2020-01-01 00:02:00</td>\n",
       "      <td>-1</td>\n",
       "    </tr>\n",
       "  </tbody>\n",
       "</table>\n",
       "</div>"
      ],
      "text/plain": [
       "                     pyranometer  pyroheliometer  azimuth_angle_deg  \\\n",
       "datetime                                                              \n",
       "2020-01-01 00:00:00    -0.962276             0.0          356.85640   \n",
       "2020-01-01 00:01:00    -0.937921             0.0          357.65505   \n",
       "2020-01-01 00:02:00    -0.944395             0.0          358.45438   \n",
       "\n",
       "                     tower_dry_bulb_temp_deg  tower_wet_bulb_temp_deg  \\\n",
       "datetime                                                                \n",
       "2020-01-01 00:00:00                    7.216                    0.988   \n",
       "2020-01-01 00:01:00                    7.251                    1.040   \n",
       "2020-01-01 00:02:00                    7.256                    1.093   \n",
       "\n",
       "                     tower_dew_point_deg  tower_rh_pct  peak_wind_speed_mps  \\\n",
       "datetime                                                                      \n",
       "2020-01-01 00:00:00               -7.312         32.33                 9.95   \n",
       "2020-01-01 00:01:00               -7.260         32.40                 8.20   \n",
       "2020-01-01 00:02:00               -7.207         32.54                 6.70   \n",
       "\n",
       "                     avg_wind_direction_deg  station_pressure_mbar  \\\n",
       "datetime                                                             \n",
       "2020-01-01 00:00:00                   271.3                806.779   \n",
       "2020-01-01 00:01:00                   272.9                806.840   \n",
       "2020-01-01 00:02:00                   288.8                806.876   \n",
       "\n",
       "                     precipitation_mm  snow_depth_cm  moisture  albedometer  \\\n",
       "datetime                                                                      \n",
       "2020-01-01 00:00:00               0.0          0.219       0.0          0.0   \n",
       "2020-01-01 00:01:00               0.0          0.206       0.0          0.0   \n",
       "2020-01-01 00:02:00               0.0          0.148       0.0          0.0   \n",
       "\n",
       "                           datetime_cpy  total_cloud_coverage_pct  \n",
       "datetime                                                           \n",
       "2020-01-01 00:00:00 2020-01-01 00:00:00                        -1  \n",
       "2020-01-01 00:01:00 2020-01-01 00:01:00                        -1  \n",
       "2020-01-01 00:02:00 2020-01-01 00:02:00                        -1  "
      ]
     },
     "execution_count": 14,
     "metadata": {},
     "output_type": "execute_result"
    }
   ],
   "source": [
    "weather_df = add_datetime_column(weather_df)\n",
    "weather_df.set_index('datetime', inplace=True)\n",
    "weather_df.head(3)"
   ]
  },
  {
   "cell_type": "code",
   "execution_count": 15,
   "id": "6b8940f5-3589-4f86-afe3-b84e03a4a20c",
   "metadata": {},
   "outputs": [
    {
     "data": {
      "text/html": [
       "<div>\n",
       "<style scoped>\n",
       "    .dataframe tbody tr th:only-of-type {\n",
       "        vertical-align: middle;\n",
       "    }\n",
       "\n",
       "    .dataframe tbody tr th {\n",
       "        vertical-align: top;\n",
       "    }\n",
       "\n",
       "    .dataframe thead th {\n",
       "        text-align: right;\n",
       "    }\n",
       "</style>\n",
       "<table border=\"1\" class=\"dataframe\">\n",
       "  <thead>\n",
       "    <tr style=\"text-align: right;\">\n",
       "      <th></th>\n",
       "      <th>pyranometer</th>\n",
       "      <th>pyroheliometer</th>\n",
       "      <th>azimuth_angle_deg</th>\n",
       "      <th>tower_dry_bulb_temp_deg</th>\n",
       "      <th>tower_wet_bulb_temp_deg</th>\n",
       "      <th>tower_dew_point_deg</th>\n",
       "      <th>tower_rh_pct</th>\n",
       "      <th>peak_wind_speed_mps</th>\n",
       "      <th>avg_wind_direction_deg</th>\n",
       "      <th>station_pressure_mbar</th>\n",
       "      <th>precipitation_mm</th>\n",
       "      <th>snow_depth_cm</th>\n",
       "      <th>moisture</th>\n",
       "      <th>albedometer</th>\n",
       "      <th>total_cloud_coverage_pct</th>\n",
       "    </tr>\n",
       "  </thead>\n",
       "  <tbody>\n",
       "    <tr>\n",
       "      <th>count</th>\n",
       "      <td>527040.000000</td>\n",
       "      <td>527040.000000</td>\n",
       "      <td>527040.000000</td>\n",
       "      <td>527040.000000</td>\n",
       "      <td>527040.000000</td>\n",
       "      <td>527040.000000</td>\n",
       "      <td>527040.000000</td>\n",
       "      <td>527040.000000</td>\n",
       "      <td>527040.000000</td>\n",
       "      <td>527040.000000</td>\n",
       "      <td>527040.000000</td>\n",
       "      <td>527040.000000</td>\n",
       "      <td>527040.000000</td>\n",
       "      <td>527040.000000</td>\n",
       "      <td>527040.000000</td>\n",
       "    </tr>\n",
       "    <tr>\n",
       "      <th>mean</th>\n",
       "      <td>196.971081</td>\n",
       "      <td>237.119295</td>\n",
       "      <td>180.000016</td>\n",
       "      <td>11.829286</td>\n",
       "      <td>4.610521</td>\n",
       "      <td>-3.115536</td>\n",
       "      <td>40.664133</td>\n",
       "      <td>2.855863</td>\n",
       "      <td>168.420883</td>\n",
       "      <td>816.876516</td>\n",
       "      <td>0.370496</td>\n",
       "      <td>-3.301760</td>\n",
       "      <td>0.064295</td>\n",
       "      <td>0.131975</td>\n",
       "      <td>-0.592061</td>\n",
       "    </tr>\n",
       "    <tr>\n",
       "      <th>std</th>\n",
       "      <td>290.616298</td>\n",
       "      <td>367.803389</td>\n",
       "      <td>100.772041</td>\n",
       "      <td>10.703063</td>\n",
       "      <td>6.965858</td>\n",
       "      <td>7.339865</td>\n",
       "      <td>24.196340</td>\n",
       "      <td>2.081439</td>\n",
       "      <td>116.719968</td>\n",
       "      <td>5.114894</td>\n",
       "      <td>1.871185</td>\n",
       "      <td>199.263767</td>\n",
       "      <td>0.242353</td>\n",
       "      <td>0.186085</td>\n",
       "      <td>432.780701</td>\n",
       "    </tr>\n",
       "    <tr>\n",
       "      <th>min</th>\n",
       "      <td>-4.764200</td>\n",
       "      <td>-12.403300</td>\n",
       "      <td>0.000120</td>\n",
       "      <td>-16.690000</td>\n",
       "      <td>-17.351000</td>\n",
       "      <td>-24.830000</td>\n",
       "      <td>4.210000</td>\n",
       "      <td>0.000000</td>\n",
       "      <td>0.000000</td>\n",
       "      <td>794.918000</td>\n",
       "      <td>0.000000</td>\n",
       "      <td>-7999.000000</td>\n",
       "      <td>0.000000</td>\n",
       "      <td>0.000000</td>\n",
       "      <td>-7999.000000</td>\n",
       "    </tr>\n",
       "    <tr>\n",
       "      <th>25%</th>\n",
       "      <td>-1.106560</td>\n",
       "      <td>-0.197818</td>\n",
       "      <td>89.724415</td>\n",
       "      <td>3.222000</td>\n",
       "      <td>-0.877000</td>\n",
       "      <td>-8.653000</td>\n",
       "      <td>22.300000</td>\n",
       "      <td>1.450000</td>\n",
       "      <td>43.280000</td>\n",
       "      <td>813.736000</td>\n",
       "      <td>0.000000</td>\n",
       "      <td>0.102000</td>\n",
       "      <td>0.000000</td>\n",
       "      <td>0.000000</td>\n",
       "      <td>-1.000000</td>\n",
       "    </tr>\n",
       "    <tr>\n",
       "      <th>50%</th>\n",
       "      <td>4.909625</td>\n",
       "      <td>0.256763</td>\n",
       "      <td>179.991490</td>\n",
       "      <td>11.910000</td>\n",
       "      <td>4.727000</td>\n",
       "      <td>-3.643000</td>\n",
       "      <td>33.790000</td>\n",
       "      <td>2.450000</td>\n",
       "      <td>181.200000</td>\n",
       "      <td>817.305000</td>\n",
       "      <td>0.000000</td>\n",
       "      <td>0.643000</td>\n",
       "      <td>0.000000</td>\n",
       "      <td>0.000000</td>\n",
       "      <td>-1.000000</td>\n",
       "    </tr>\n",
       "    <tr>\n",
       "      <th>75%</th>\n",
       "      <td>335.747500</td>\n",
       "      <td>518.209250</td>\n",
       "      <td>270.267272</td>\n",
       "      <td>20.350000</td>\n",
       "      <td>10.788000</td>\n",
       "      <td>2.208000</td>\n",
       "      <td>53.530000</td>\n",
       "      <td>3.700000</td>\n",
       "      <td>282.200000</td>\n",
       "      <td>820.278250</td>\n",
       "      <td>0.000000</td>\n",
       "      <td>1.043000</td>\n",
       "      <td>0.000000</td>\n",
       "      <td>0.203600</td>\n",
       "      <td>35.000000</td>\n",
       "    </tr>\n",
       "    <tr>\n",
       "      <th>max</th>\n",
       "      <td>1428.650000</td>\n",
       "      <td>1069.200000</td>\n",
       "      <td>359.998560</td>\n",
       "      <td>36.320000</td>\n",
       "      <td>19.416000</td>\n",
       "      <td>17.418000</td>\n",
       "      <td>100.100000</td>\n",
       "      <td>24.200000</td>\n",
       "      <td>360.000000</td>\n",
       "      <td>847.963000</td>\n",
       "      <td>28.190000</td>\n",
       "      <td>28.430000</td>\n",
       "      <td>1.000000</td>\n",
       "      <td>2.000000</td>\n",
       "      <td>100.000000</td>\n",
       "    </tr>\n",
       "  </tbody>\n",
       "</table>\n",
       "</div>"
      ],
      "text/plain": [
       "         pyranometer  pyroheliometer  azimuth_angle_deg  \\\n",
       "count  527040.000000   527040.000000      527040.000000   \n",
       "mean      196.971081      237.119295         180.000016   \n",
       "std       290.616298      367.803389         100.772041   \n",
       "min        -4.764200      -12.403300           0.000120   \n",
       "25%        -1.106560       -0.197818          89.724415   \n",
       "50%         4.909625        0.256763         179.991490   \n",
       "75%       335.747500      518.209250         270.267272   \n",
       "max      1428.650000     1069.200000         359.998560   \n",
       "\n",
       "       tower_dry_bulb_temp_deg  tower_wet_bulb_temp_deg  tower_dew_point_deg  \\\n",
       "count            527040.000000            527040.000000        527040.000000   \n",
       "mean                 11.829286                 4.610521            -3.115536   \n",
       "std                  10.703063                 6.965858             7.339865   \n",
       "min                 -16.690000               -17.351000           -24.830000   \n",
       "25%                   3.222000                -0.877000            -8.653000   \n",
       "50%                  11.910000                 4.727000            -3.643000   \n",
       "75%                  20.350000                10.788000             2.208000   \n",
       "max                  36.320000                19.416000            17.418000   \n",
       "\n",
       "        tower_rh_pct  peak_wind_speed_mps  avg_wind_direction_deg  \\\n",
       "count  527040.000000        527040.000000           527040.000000   \n",
       "mean       40.664133             2.855863              168.420883   \n",
       "std        24.196340             2.081439              116.719968   \n",
       "min         4.210000             0.000000                0.000000   \n",
       "25%        22.300000             1.450000               43.280000   \n",
       "50%        33.790000             2.450000              181.200000   \n",
       "75%        53.530000             3.700000              282.200000   \n",
       "max       100.100000            24.200000              360.000000   \n",
       "\n",
       "       station_pressure_mbar  precipitation_mm  snow_depth_cm       moisture  \\\n",
       "count          527040.000000     527040.000000  527040.000000  527040.000000   \n",
       "mean              816.876516          0.370496      -3.301760       0.064295   \n",
       "std                 5.114894          1.871185     199.263767       0.242353   \n",
       "min               794.918000          0.000000   -7999.000000       0.000000   \n",
       "25%               813.736000          0.000000       0.102000       0.000000   \n",
       "50%               817.305000          0.000000       0.643000       0.000000   \n",
       "75%               820.278250          0.000000       1.043000       0.000000   \n",
       "max               847.963000         28.190000      28.430000       1.000000   \n",
       "\n",
       "         albedometer  total_cloud_coverage_pct  \n",
       "count  527040.000000             527040.000000  \n",
       "mean        0.131975                 -0.592061  \n",
       "std         0.186085                432.780701  \n",
       "min         0.000000              -7999.000000  \n",
       "25%         0.000000                 -1.000000  \n",
       "50%         0.000000                 -1.000000  \n",
       "75%         0.203600                 35.000000  \n",
       "max         2.000000                100.000000  "
      ]
     },
     "execution_count": 15,
     "metadata": {},
     "output_type": "execute_result"
    }
   ],
   "source": [
    "import seaborn as sns\n",
    "\n",
    "weather_df.describe()"
   ]
  },
  {
   "cell_type": "markdown",
   "id": "0f1b3124-2acf-45ec-aba5-3c4438823a7a",
   "metadata": {},
   "source": [
    "### Analyzing Falsely Recorded Cloud Coverage Instances (Required - Training Pipeline)\n",
    "Since **total_cloud_coverage_pct** should range as **night time=-1** and **day time= 0 to 100**, let's check instances outside these range. (*i.e. when total_cloud_coverage < -1 amd total_cloud_coverage > 100*)"
   ]
  },
  {
   "cell_type": "code",
   "execution_count": 16,
   "id": "b5e0acac-2c37-40f6-b04b-78f0b13d77c4",
   "metadata": {},
   "outputs": [
    {
     "data": {
      "text/html": [
       "<div>\n",
       "<style scoped>\n",
       "    .dataframe tbody tr th:only-of-type {\n",
       "        vertical-align: middle;\n",
       "    }\n",
       "\n",
       "    .dataframe tbody tr th {\n",
       "        vertical-align: top;\n",
       "    }\n",
       "\n",
       "    .dataframe thead th {\n",
       "        text-align: right;\n",
       "    }\n",
       "</style>\n",
       "<table border=\"1\" class=\"dataframe\">\n",
       "  <thead>\n",
       "    <tr style=\"text-align: right;\">\n",
       "      <th></th>\n",
       "      <th>-7999</th>\n",
       "      <th>-6999</th>\n",
       "    </tr>\n",
       "  </thead>\n",
       "  <tbody>\n",
       "    <tr>\n",
       "      <th>Total False Occurances</th>\n",
       "      <td>1527.000000</td>\n",
       "      <td>2.000000</td>\n",
       "    </tr>\n",
       "    <tr>\n",
       "      <th>% of Total Dataset</th>\n",
       "      <td>0.289731</td>\n",
       "      <td>0.000379</td>\n",
       "    </tr>\n",
       "  </tbody>\n",
       "</table>\n",
       "</div>"
      ],
      "text/plain": [
       "                              -7999     -6999\n",
       "Total False Occurances  1527.000000  2.000000\n",
       "% of Total Dataset         0.289731  0.000379"
      ]
     },
     "execution_count": 16,
     "metadata": {},
     "output_type": "execute_result"
    }
   ],
   "source": [
    "weather_false_coverage_df = weather_df.loc[(weather_df['total_cloud_coverage_pct'] < -1) | (weather_df['total_cloud_coverage_pct'] > 100)]\n",
    "\n",
    "pd.DataFrame([\n",
    "    weather_false_coverage_df['total_cloud_coverage_pct'].value_counts() ,\n",
    "    weather_false_coverage_df['total_cloud_coverage_pct'].value_counts() *100 / weather_df.shape[0]\n",
    "], index=[\"Total False Occurances\", \"% of Total Dataset\"])"
   ]
  },
  {
   "cell_type": "markdown",
   "id": "c22ff994-0290-4dfe-80b0-e1a12767b891",
   "metadata": {},
   "source": [
    "So like I interpreted, I found very few instances which are wrongly recorded as **total_cloud_coverage_pct** either because of device problems or some unknown behaviour.  \n",
    "\n",
    "To deal with this, maybe we can either think of,  \n",
    "    \n",
    "1. As the weather won't change that much significantly in 1 min (maybe want to debate on it more), we can replace the instances with the previous reading of *cloud_coverage_pcts*.  \n",
    "2. Remove these instances.  \n",
    "    \n",
    "Although before replacing the instances with false **total_cloud_coverage_pct**'s, it would be good to look for any patterns so as to how frequently these errors were happening."
   ]
  },
  {
   "cell_type": "code",
   "execution_count": 17,
   "id": "13dff4bf-3659-4890-a561-c9f907c4b509",
   "metadata": {},
   "outputs": [
    {
     "data": {
      "image/png": "[encoded data removed]",
      "text/plain": [
       "<Figure size 1080x432 with 3 Axes>"
      ]
     },
     "metadata": {
      "needs_background": "light"
     },
     "output_type": "display_data"
    }
   ],
   "source": [
    "MONTHS = [\"Dec\",\"Jan\", \"Feb\", \"Mar\", \"Apr\", \"May\", \"June\", \"July\", \n",
    "          \"Aug\", \"Sept\", \"Oct\", \"Nov\", \" \"]\n",
    "\n",
    "HOURS_FMT12 =  [\"12:00AM\",\"01:00AM\", \"02:00AM\",\"03:00AM\",\"04:00AM\",\"05:00AM\",\"06:00AM\",\"07:00AM\",\"08:00AM\",\"09:00AM\",\"10:00AM\",\n",
    "         \"11:00AM\",\"12:00PM\",\"01:00PM\",\"02:00PM\",\"03:00PM\",\"04:00PM\",\"05:00PM\",\"06:00PM\",\"07:00PM\",\"08:00PM\",\n",
    "         \"09:00PM\",\"10:00PM\",\"11:00PM\",\" \"]\n",
    "\n",
    "fig, axes = plt.subplots(nrows=3, figsize=(15,6), constrained_layout=True)\n",
    "fig.suptitle('False Cloud Coverage Recordings', fontsize=16)\n",
    "fig.text(0.0, 0.5, 'Count', va='center', rotation='vertical')\n",
    "\n",
    "# Per Mintue\n",
    "plt.sca(axes[0])\n",
    "weather_false_coverage_df.groupby(weather_false_coverage_df[\"datetime_cpy\"].dt.minute)['pyranometer'].count() \\\n",
    "                                    .plot(kind=\"line\", color='red', alpha=0.8 )\n",
    "plt.xlabel(\"Minutes\")\n",
    "plt.title(\"Frequency (Mintues)\", fontsize=14)\n",
    "\n",
    "\n",
    "# Per Hour\n",
    "plt.sca(axes[1])\n",
    "weather_false_coverage_df.groupby(weather_false_coverage_df[\"datetime_cpy\"].dt.hour)['pyranometer'].count() \\\n",
    "                                    .plot(kind=\"line\", color='red', alpha=0.8 )\n",
    "plt.xticks(ticks=range(25), labels=HOURS_FMT12, rotation=60)\n",
    "plt.xlabel(\"Hours\")\n",
    "plt.title(\"Frequency (Hours)\", fontsize=14)\n",
    "\n",
    "\n",
    "# Per Month\n",
    "plt.sca(axes[2])\n",
    "weather_false_coverage_df.groupby(weather_false_coverage_df[\"datetime_cpy\"].dt.month)['pyranometer'].count() \\\n",
    "                                    .plot(kind=\"line\", color='red',alpha=0.8)\n",
    "plt.xticks(ticks=range(13), labels=MONTHS)\n",
    "plt.xlabel(\"Months\")\n",
    "plt.title(\"Frequency (Months)\", fontsize=14)\n",
    "\n",
    "plt.show()"
   ]
  },
  {
   "cell_type": "markdown",
   "id": "937f78b5-e11e-4b07-bbe4-4f792080bd36",
   "metadata": {},
   "source": [
    "Here are some of observations about the frequency of occurances of unknown errors in **total_cloud_coverage_pct** I made, \n",
    "- Daily and per Minute - Occurances were uniform across ranges, so nothing specific found.\n",
    "- Hourly - Occurances usually started after 05:00AM, peaked between 08:00AM to 03:00PM and drastically reduced till 06:00PM which is again not giving that much information about why wrong values were produced .\n",
    "- Monthly - Occurances peaked between May to August and then started to go down. Maybe some seasonal effect caused this.\n",
    "\n",
    "As these occurances are still widely distributed for Minutes Frequency, for now we can go ahead and replace the wrong **total_cloud_coverage_pct** with previous reading.\n",
    "\n",
    "#### Masking False total_cloud_coverage_pct Readings"
   ]
  },
  {
   "cell_type": "code",
   "execution_count": 18,
   "id": "f42e105a-a2d9-46ed-8ffd-6b3b76d493e7",
   "metadata": {},
   "outputs": [],
   "source": [
    "#TODO: we can update this condition as generic way to replace total_cloud_coverage_pct < -1 and total_cloud_coverage_pct > 100 \n",
    "#with their previous correct readings\n",
    "def replace_false_cloud_coverage_with_previous(weather_df):\n",
    "    '''\n",
    "        Replace total_cloud_coverage_pct < -1 with it's previous minute readings.\n",
    "    '''\n",
    "    weather_df['total_cloud_coverage_pct'] = weather_df.total_cloud_coverage_pct.mask(weather_df.total_cloud_coverage_pct < -1) \\\n",
    "    .ffill().astype(int)\n",
    "    return weather_df"
   ]
  },
  {
   "cell_type": "code",
   "execution_count": 19,
   "id": "67a3bf44-ef3a-46a4-9cef-c2721ad3975a",
   "metadata": {},
   "outputs": [],
   "source": [
    "weather_df = replace_false_cloud_coverage_with_previous(weather_df)"
   ]
  },
  {
   "cell_type": "markdown",
   "id": "b5c72a86-ecea-4b77-9c7f-dfb5ba79d61b",
   "metadata": {},
   "source": [
    "Let's confirm if the false readings got masked properly"
   ]
  },
  {
   "cell_type": "code",
   "execution_count": 20,
   "id": "0bdbfcfc-13e1-4f7a-ae3e-ba46a4b8586d",
   "metadata": {},
   "outputs": [
    {
     "data": {
      "text/html": [
       "<div>\n",
       "<style scoped>\n",
       "    .dataframe tbody tr th:only-of-type {\n",
       "        vertical-align: middle;\n",
       "    }\n",
       "\n",
       "    .dataframe tbody tr th {\n",
       "        vertical-align: top;\n",
       "    }\n",
       "\n",
       "    .dataframe thead th {\n",
       "        text-align: right;\n",
       "    }\n",
       "</style>\n",
       "<table border=\"1\" class=\"dataframe\">\n",
       "  <thead>\n",
       "    <tr style=\"text-align: right;\">\n",
       "      <th></th>\n",
       "    </tr>\n",
       "  </thead>\n",
       "  <tbody>\n",
       "    <tr>\n",
       "      <th>Total False Occurances</th>\n",
       "    </tr>\n",
       "    <tr>\n",
       "      <th>% of Total Dataset</th>\n",
       "    </tr>\n",
       "  </tbody>\n",
       "</table>\n",
       "</div>"
      ],
      "text/plain": [
       "Empty DataFrame\n",
       "Columns: []\n",
       "Index: [Total False Occurances, % of Total Dataset]"
      ]
     },
     "execution_count": 20,
     "metadata": {},
     "output_type": "execute_result"
    }
   ],
   "source": [
    "weather_false_coverage_df = weather_df.loc[(weather_df['total_cloud_coverage_pct'] < -1) | (weather_df['total_cloud_coverage_pct'] > 100)]\n",
    "\n",
    "pd.DataFrame([\n",
    "    weather_false_coverage_df['total_cloud_coverage_pct'].value_counts() ,\n",
    "    weather_false_coverage_df['total_cloud_coverage_pct'].value_counts() *100 / weather_df.shape[0]\n",
    "], index=[\"Total False Occurances\", \"% of Total Dataset\"])"
   ]
  },
  {
   "cell_type": "markdown",
   "id": "29adf779-3096-4f2c-b8bd-8e8b42bfe19b",
   "metadata": {},
   "source": [
    "### Analyzing Monthyl Feature Means\n",
    "Let's see how features vary with respect to Total Cloud Coverage per Month.  "
   ]
  },
  {
   "cell_type": "code",
   "execution_count": 26,
   "id": "d48de65d-4407-4749-9649-1f20a5e54ac6",
   "metadata": {},
   "outputs": [],
   "source": [
    "EDA_FEATURES = ['total_cloud_coverage_pct', 'pyranometer', 'pyroheliometer', \n",
    "       'tower_dry_bulb_temp_deg', 'tower_wet_bulb_temp_deg',\n",
    "       'tower_dew_point_deg', 'tower_rh_pct',   'precipitation_mm',\n",
    "       'snow_depth_cm', 'moisture', 'albedometer']\n",
    "\n",
    "EDA_LABELS = ['%', '$W/m^2$', '$W/m^2$', '$^{\\circ}C$', '$^{\\circ}C$', '$^{\\circ}C$', '%', 'mm', 'cm', '', '']"
   ]
  },
  {
   "cell_type": "code",
   "execution_count": 34,
   "id": "97494a9f-ea8e-4bc5-bef2-e1f07170293d",
   "metadata": {},
   "outputs": [],
   "source": [
    "import calendar\n",
    "#from matplotlib.colors import ListedColormap\n",
    "import matplotlib.cm as cm\n",
    "from matplotlib.colors import Normalize\n",
    "\n",
    "#COLORS_MONTHS_JAN_DEC = ['#007acc', '#0099ff', '#80ccff', '#b3e0ff', '#ffd1b3', '#ffb380', '#ff751a', '#ff8533', '#ffc299', '#b3e0ff', '#66c2ff', '#33adff']\n",
    "\n",
    "def plot_feature_variations(weather_df, featurename, ylabel='', aggfunc='mean'):\n",
    "    '''\n",
    "        Plotting monthly aggregate of weather feature colored with respect to Monthly Mean total_cloud_coverage_pct.\n",
    "        \n",
    "        Note:\n",
    "            aggfunc - Pandas groupby aggregate function. ex. mean, median, prod, sum, std, var\n",
    "    '''\n",
    "    \n",
    "    temp_df = weather_df.groupby([weather_df.datetime_cpy.dt.month]) \\\n",
    "                    .agg(agg_cloud_coverage = ('total_cloud_coverage_pct', aggfunc), agg_col = (featurename, aggfunc))\n",
    "    temp_df.index.rename('month', inplace=True)\n",
    "    temp_df = temp_df.reset_index()\n",
    "    \n",
    "    coverage_norm = Normalize(vmin=temp_df['agg_cloud_coverage'].min(), vmax=temp_df['agg_cloud_coverage'].max())\n",
    "    my_cmap = cm.get_cmap('Blues')\n",
    "    \n",
    "    temp_df.plot(kind=\"bar\", x=\"month\", y=\"agg_col\", alpha = 0.8,\n",
    "             figsize=(14, 2), color=my_cmap(coverage_norm(temp_df['agg_cloud_coverage'])))\n",
    "    \n",
    "    if featurename == 'total_cloud_coverage_pct':\n",
    "        plt.title(\"{aggfunc} total_cloud_coverage\".format(featurename, aggfunc=aggfunc.capitalize()), fontsize=18)\n",
    "    else:\n",
    "        plt.title(\"{aggfunc} {} w.r.t. {aggfunc} total_cloud_coverage\".format(featurename, aggfunc=aggfunc.capitalize()), fontsize=14)\n",
    "    plt.xlabel(\"\")\n",
    "    plt.ylabel(ylabel, fontsize=14)\n",
    "    plt.xticks(ticks=range(0,12), labels=[calendar.month_name[i] for i in range(1,13)], rotation=70)"
   ]
  },
  {
   "cell_type": "markdown",
   "id": "ecaec8de-016d-433f-bc54-f4a762ffe825",
   "metadata": {},
   "source": [
    "Here the color of bar represents mean **total_cloud_coverage**."
   ]
  },
  {
   "cell_type": "code",
   "execution_count": 44,
   "id": "00519be7-de00-4d40-b2e5-08ff9a9ad652",
   "metadata": {
    "tags": []
   },
   "outputs": [
    {
     "data": {
      "image/png": "[encoded data removed]",
      "text/plain": [
       "<Figure size 1008x144 with 1 Axes>"
      ]
     },
     "metadata": {
      "needs_background": "light"
     },
     "output_type": "display_data"
    },
    {
     "data": {
      "image/png": "[encoded data removed]",
      "text/plain": [
       "<Figure size 1008x144 with 1 Axes>"
      ]
     },
     "metadata": {
      "needs_background": "light"
     },
     "output_type": "display_data"
    },
    {
     "data": {
      "image/png": "[encoded data removed]",
      "text/plain": [
       "<Figure size 1008x144 with 1 Axes>"
      ]
     },
     "metadata": {
      "needs_background": "light"
     },
     "output_type": "display_data"
    },
    {
     "data": {
      "image/png": "[encoded data removed]",
      "text/plain": [
       "<Figure size 1008x144 with 1 Axes>"
      ]
     },
     "metadata": {
      "needs_background": "light"
     },
     "output_type": "display_data"
    },
    {
     "data": {
      "image/png": "[encoded data removed]",
      "text/plain": [
       "<Figure size 1008x144 with 1 Axes>"
      ]
     },
     "metadata": {
      "needs_background": "light"
     },
     "output_type": "display_data"
    },
    {
     "data": {
      "image/png": "[encoded data removed]",
      "text/plain": [
       "<Figure size 1008x144 with 1 Axes>"
      ]
     },
     "metadata": {
      "needs_background": "light"
     },
     "output_type": "display_data"
    },
    {
     "data": {
      "image/png": "[encoded data removed]",
      "text/plain": [
       "<Figure size 1008x144 with 1 Axes>"
      ]
     },
     "metadata": {
      "needs_background": "light"
     },
     "output_type": "display_data"
    },
    {
     "data": {
      "image/png": "[encoded data removed]",
      "text/plain": [
       "<Figure size 1008x144 with 1 Axes>"
      ]
     },
     "metadata": {
      "needs_background": "light"
     },
     "output_type": "display_data"
    },
    {
     "data": {
      "image/png": "[encoded data removed]",
      "text/plain": [
       "<Figure size 1008x144 with 1 Axes>"
      ]
     },
     "metadata": {
      "needs_background": "light"
     },
     "output_type": "display_data"
    },
    {
     "data": {
      "image/png": "[encoded data removed]",
      "text/plain": [
       "<Figure size 1008x144 with 1 Axes>"
      ]
     },
     "metadata": {
      "needs_background": "light"
     },
     "output_type": "display_data"
    },
    {
     "data": {
      "image/png": "[encoded data removed]",
      "text/plain": [
       "<Figure size 1008x144 with 1 Axes>"
      ]
     },
     "metadata": {
      "needs_background": "light"
     },
     "output_type": "display_data"
    }
   ],
   "source": [
    "for i, curr_feature in enumerate(EDA_FEATURES):\n",
    "    plot_feature_variations(weather_df, curr_feature, EDA_LABELS[i], 'mean')\n",
    "\n",
    "plt.show()"
   ]
  },
  {
   "cell_type": "markdown",
   "id": "6294210c-8803-4ed3-ba01-076a900140a0",
   "metadata": {},
   "source": [
    "## Analyzing Sky Images"
   ]
  },
  {
   "cell_type": "code",
   "execution_count": null,
   "id": "6b255ff4-9d64-4772-a69a-020cace95465",
   "metadata": {},
   "outputs": [],
   "source": []
  }
 ],
 "metadata": {
  "kernelspec": {
   "display_name": "opencv",
   "language": "python",
   "name": "opencv"
  },
  "language_info": {
   "codemirror_mode": {
    "name": "ipython",
    "version": 3
   },
   "file_extension": ".py",
   "mimetype": "text/x-python",
   "name": "python",
   "nbconvert_exporter": "python",
   "pygments_lexer": "ipython3",
   "version": "3.7.10"
  }
 },
 "nbformat": 4,
 "nbformat_minor": 5
}
